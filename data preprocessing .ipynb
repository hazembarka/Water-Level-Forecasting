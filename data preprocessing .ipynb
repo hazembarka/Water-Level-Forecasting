{
 "cells": [
  {
   "cell_type": "markdown",
   "metadata": {},
   "source": [
    "# Set Up "
   ]
  },
  {
   "cell_type": "code",
   "execution_count": 1,
   "metadata": {},
   "outputs": [],
   "source": [
    "import os \n",
    "\n",
    "import numpy as np \n",
    "import pandas as pd \n",
    "import matplotlib.pyplot as plt "
   ]
  },
  {
   "cell_type": "markdown",
   "metadata": {},
   "source": [
    "# Load the Hydrometric stations Data "
   ]
  },
  {
   "cell_type": "code",
   "execution_count": 2,
   "metadata": {},
   "outputs": [],
   "source": [
    "data_dir = 'data/hydro/'\n",
    "all_data_paths = os.listdir(data_dir)"
   ]
  },
  {
   "cell_type": "code",
   "execution_count": 3,
   "metadata": {},
   "outputs": [],
   "source": [
    "def add_nans(x): \n",
    "    if x == 'nan' : \n",
    "        return np.nan \n",
    "    else : \n",
    "        return x "
   ]
  },
  {
   "cell_type": "code",
   "execution_count": 4,
   "metadata": {},
   "outputs": [],
   "source": [
    "def corrcet_id(x) : \n",
    "    if x[0] == '\\ufeff' : \n",
    "        x = x[1:]\n",
    "    return x "
   ]
  },
  {
   "cell_type": "code",
   "execution_count": 5,
   "metadata": {},
   "outputs": [
    {
     "name": "stderr",
     "output_type": "stream",
     "text": [
      "/raid/apps/jupyter/1.0.0/lib/python3.7/site-packages/IPython/core/interactiveshell.py:3063: DtypeWarning: Columns (1,3) have mixed types.Specify dtype option on import or set low_memory=False.\n",
      "  interactivity=interactivity, compiler=compiler, result=result)\n",
      "/raid/apps/jupyter/1.0.0/lib/python3.7/site-packages/ipykernel_launcher.py:18: RuntimeWarning: invalid value encountered in long_scalars\n"
     ]
    }
   ],
   "source": [
    "all_data = []\n",
    "all_ids = []\n",
    "for file_path in all_data_paths : \n",
    "    if '.csv' in file_path : \n",
    "        data = pd.read_csv(data_dir + file_path )\n",
    "        data = pd.DataFrame( columns = data.index[0] , data = np.vstack(data.index[1:]))\n",
    "        data[' ID'] = data[' ID'].apply(corrcet_id)\n",
    "        for id_ in data[' ID'].unique() : \n",
    "            if id_ not in all_ids : \n",
    "                all_ids.append(id_)\n",
    "                temp = data[data[' ID'] == id_].copy()\n",
    "                datetime_series = pd.to_datetime(temp['Date'])\n",
    "                datetime_index = pd.DatetimeIndex(datetime_series.values)\n",
    "                temp.set_index(datetime_index,inplace =True)\n",
    "                temp.drop('Date',1,inplace =True)\n",
    "                temp = temp[temp.index > '2000-01-01']\n",
    "                temp['Value'] =  temp['Value'].apply(add_nans) \n",
    "                pct = temp['Value'].isnull().sum()/temp.shape[0]\n",
    "                if pct < 0.1 : \n",
    "                    all_data.append(temp)\n",
    "all_data = pd.concat(all_data)"
   ]
  },
  {
   "cell_type": "code",
   "execution_count": 6,
   "metadata": {},
   "outputs": [
    {
     "data": {
      "text/html": [
       "<div>\n",
       "<style scoped>\n",
       "    .dataframe tbody tr th:only-of-type {\n",
       "        vertical-align: middle;\n",
       "    }\n",
       "\n",
       "    .dataframe tbody tr th {\n",
       "        vertical-align: top;\n",
       "    }\n",
       "\n",
       "    .dataframe thead th {\n",
       "        text-align: right;\n",
       "    }\n",
       "</style>\n",
       "<table border=\"1\" class=\"dataframe\">\n",
       "  <thead>\n",
       "    <tr style=\"text-align: right;\">\n",
       "      <th></th>\n",
       "      <th>ID</th>\n",
       "      <th>PARAM</th>\n",
       "      <th>Value</th>\n",
       "    </tr>\n",
       "  </thead>\n",
       "  <tbody>\n",
       "    <tr>\n",
       "      <th>2000-01-02</th>\n",
       "      <td>06EB002</td>\n",
       "      <td>2</td>\n",
       "      <td>259.530</td>\n",
       "    </tr>\n",
       "    <tr>\n",
       "      <th>2000-01-03</th>\n",
       "      <td>06EB002</td>\n",
       "      <td>2</td>\n",
       "      <td>259.527</td>\n",
       "    </tr>\n",
       "    <tr>\n",
       "      <th>2000-01-04</th>\n",
       "      <td>06EB002</td>\n",
       "      <td>2</td>\n",
       "      <td>259.527</td>\n",
       "    </tr>\n",
       "    <tr>\n",
       "      <th>2000-01-05</th>\n",
       "      <td>06EB002</td>\n",
       "      <td>2</td>\n",
       "      <td>259.525</td>\n",
       "    </tr>\n",
       "    <tr>\n",
       "      <th>2000-01-06</th>\n",
       "      <td>06EB002</td>\n",
       "      <td>2</td>\n",
       "      <td>259.523</td>\n",
       "    </tr>\n",
       "  </tbody>\n",
       "</table>\n",
       "</div>"
      ],
      "text/plain": [
       "                 ID PARAM    Value\n",
       "2000-01-02  06EB002     2  259.530\n",
       "2000-01-03  06EB002     2  259.527\n",
       "2000-01-04  06EB002     2  259.527\n",
       "2000-01-05  06EB002     2  259.525\n",
       "2000-01-06  06EB002     2  259.523"
      ]
     },
     "execution_count": 6,
     "metadata": {},
     "output_type": "execute_result"
    }
   ],
   "source": [
    "all_data.head()"
   ]
  },
  {
   "cell_type": "markdown",
   "metadata": {},
   "source": [
    "### Adding Latitude\tand Longitude"
   ]
  },
  {
   "cell_type": "code",
   "execution_count": 7,
   "metadata": {},
   "outputs": [],
   "source": [
    "stations_list = pd.read_csv('data/hydrometric_StationList (5).csv') "
   ]
  },
  {
   "cell_type": "code",
   "execution_count": 8,
   "metadata": {},
   "outputs": [],
   "source": [
    "def corrcet_id(x) : \n",
    "    if x[0] == '\\ufeff' : \n",
    "        x = x[1:]\n",
    "    return x \n",
    "stations_list[' ID'] = stations_list[' ID'].apply(corrcet_id) "
   ]
  },
  {
   "cell_type": "code",
   "execution_count": 10,
   "metadata": {},
   "outputs": [],
   "source": [
    "all_data.reset_index(inplace = True )  "
   ]
  },
  {
   "cell_type": "code",
   "execution_count": 11,
   "metadata": {},
   "outputs": [],
   "source": [
    "all_data = pd.merge(all_data , stations_list[[' ID' ,'Latitude', 'Longitude']] , on= ' ID' , how = 'left') \n"
   ]
  },
  {
   "cell_type": "code",
   "execution_count": 12,
   "metadata": {},
   "outputs": [
    {
     "data": {
      "text/html": [
       "<div>\n",
       "<style scoped>\n",
       "    .dataframe tbody tr th:only-of-type {\n",
       "        vertical-align: middle;\n",
       "    }\n",
       "\n",
       "    .dataframe tbody tr th {\n",
       "        vertical-align: top;\n",
       "    }\n",
       "\n",
       "    .dataframe thead th {\n",
       "        text-align: right;\n",
       "    }\n",
       "</style>\n",
       "<table border=\"1\" class=\"dataframe\">\n",
       "  <thead>\n",
       "    <tr style=\"text-align: right;\">\n",
       "      <th></th>\n",
       "      <th>index</th>\n",
       "      <th>ID</th>\n",
       "      <th>PARAM</th>\n",
       "      <th>Value</th>\n",
       "      <th>Latitude</th>\n",
       "      <th>Longitude</th>\n",
       "    </tr>\n",
       "  </thead>\n",
       "  <tbody>\n",
       "    <tr>\n",
       "      <th>0</th>\n",
       "      <td>2000-01-02</td>\n",
       "      <td>06EB002</td>\n",
       "      <td>2</td>\n",
       "      <td>259.530</td>\n",
       "      <td>56.23303</td>\n",
       "      <td>-100.57194</td>\n",
       "    </tr>\n",
       "    <tr>\n",
       "      <th>1</th>\n",
       "      <td>2000-01-03</td>\n",
       "      <td>06EB002</td>\n",
       "      <td>2</td>\n",
       "      <td>259.527</td>\n",
       "      <td>56.23303</td>\n",
       "      <td>-100.57194</td>\n",
       "    </tr>\n",
       "    <tr>\n",
       "      <th>2</th>\n",
       "      <td>2000-01-04</td>\n",
       "      <td>06EB002</td>\n",
       "      <td>2</td>\n",
       "      <td>259.527</td>\n",
       "      <td>56.23303</td>\n",
       "      <td>-100.57194</td>\n",
       "    </tr>\n",
       "    <tr>\n",
       "      <th>3</th>\n",
       "      <td>2000-01-05</td>\n",
       "      <td>06EB002</td>\n",
       "      <td>2</td>\n",
       "      <td>259.525</td>\n",
       "      <td>56.23303</td>\n",
       "      <td>-100.57194</td>\n",
       "    </tr>\n",
       "    <tr>\n",
       "      <th>4</th>\n",
       "      <td>2000-01-06</td>\n",
       "      <td>06EB002</td>\n",
       "      <td>2</td>\n",
       "      <td>259.523</td>\n",
       "      <td>56.23303</td>\n",
       "      <td>-100.57194</td>\n",
       "    </tr>\n",
       "    <tr>\n",
       "      <th>...</th>\n",
       "      <td>...</td>\n",
       "      <td>...</td>\n",
       "      <td>...</td>\n",
       "      <td>...</td>\n",
       "      <td>...</td>\n",
       "      <td>...</td>\n",
       "    </tr>\n",
       "    <tr>\n",
       "      <th>579246</th>\n",
       "      <td>2019-12-27</td>\n",
       "      <td>05TF004</td>\n",
       "      <td>2</td>\n",
       "      <td>257.61</td>\n",
       "      <td>56.13250</td>\n",
       "      <td>-99.48342</td>\n",
       "    </tr>\n",
       "    <tr>\n",
       "      <th>579247</th>\n",
       "      <td>2019-12-28</td>\n",
       "      <td>05TF004</td>\n",
       "      <td>2</td>\n",
       "      <td>257.611</td>\n",
       "      <td>56.13250</td>\n",
       "      <td>-99.48342</td>\n",
       "    </tr>\n",
       "    <tr>\n",
       "      <th>579248</th>\n",
       "      <td>2019-12-29</td>\n",
       "      <td>05TF004</td>\n",
       "      <td>2</td>\n",
       "      <td>257.61</td>\n",
       "      <td>56.13250</td>\n",
       "      <td>-99.48342</td>\n",
       "    </tr>\n",
       "    <tr>\n",
       "      <th>579249</th>\n",
       "      <td>2019-12-30</td>\n",
       "      <td>05TF004</td>\n",
       "      <td>2</td>\n",
       "      <td>257.61</td>\n",
       "      <td>56.13250</td>\n",
       "      <td>-99.48342</td>\n",
       "    </tr>\n",
       "    <tr>\n",
       "      <th>579250</th>\n",
       "      <td>2019-12-31</td>\n",
       "      <td>05TF004</td>\n",
       "      <td>2</td>\n",
       "      <td>257.611</td>\n",
       "      <td>56.13250</td>\n",
       "      <td>-99.48342</td>\n",
       "    </tr>\n",
       "  </tbody>\n",
       "</table>\n",
       "<p>579251 rows × 6 columns</p>\n",
       "</div>"
      ],
      "text/plain": [
       "            index       ID PARAM    Value  Latitude  Longitude\n",
       "0      2000-01-02  06EB002     2  259.530  56.23303 -100.57194\n",
       "1      2000-01-03  06EB002     2  259.527  56.23303 -100.57194\n",
       "2      2000-01-04  06EB002     2  259.527  56.23303 -100.57194\n",
       "3      2000-01-05  06EB002     2  259.525  56.23303 -100.57194\n",
       "4      2000-01-06  06EB002     2  259.523  56.23303 -100.57194\n",
       "...           ...      ...   ...      ...       ...        ...\n",
       "579246 2019-12-27  05TF004     2   257.61  56.13250  -99.48342\n",
       "579247 2019-12-28  05TF004     2  257.611  56.13250  -99.48342\n",
       "579248 2019-12-29  05TF004     2   257.61  56.13250  -99.48342\n",
       "579249 2019-12-30  05TF004     2   257.61  56.13250  -99.48342\n",
       "579250 2019-12-31  05TF004     2  257.611  56.13250  -99.48342\n",
       "\n",
       "[579251 rows x 6 columns]"
      ]
     },
     "execution_count": 12,
     "metadata": {},
     "output_type": "execute_result"
    }
   ],
   "source": [
    "all_data"
   ]
  },
  {
   "cell_type": "code",
   "execution_count": 13,
   "metadata": {},
   "outputs": [
    {
     "data": {
      "text/html": [
       "<div>\n",
       "<style scoped>\n",
       "    .dataframe tbody tr th:only-of-type {\n",
       "        vertical-align: middle;\n",
       "    }\n",
       "\n",
       "    .dataframe tbody tr th {\n",
       "        vertical-align: top;\n",
       "    }\n",
       "\n",
       "    .dataframe thead th {\n",
       "        text-align: right;\n",
       "    }\n",
       "</style>\n",
       "<table border=\"1\" class=\"dataframe\">\n",
       "  <thead>\n",
       "    <tr style=\"text-align: right;\">\n",
       "      <th></th>\n",
       "      <th>index</th>\n",
       "      <th>ID</th>\n",
       "      <th>PARAM</th>\n",
       "      <th>Value</th>\n",
       "      <th>Latitude</th>\n",
       "      <th>Longitude</th>\n",
       "    </tr>\n",
       "  </thead>\n",
       "  <tbody>\n",
       "    <tr>\n",
       "      <th>0</th>\n",
       "      <td>2000-01-02</td>\n",
       "      <td>06EB002</td>\n",
       "      <td>2</td>\n",
       "      <td>259.530</td>\n",
       "      <td>56.23303</td>\n",
       "      <td>-100.57194</td>\n",
       "    </tr>\n",
       "    <tr>\n",
       "      <th>1</th>\n",
       "      <td>2000-01-03</td>\n",
       "      <td>06EB002</td>\n",
       "      <td>2</td>\n",
       "      <td>259.527</td>\n",
       "      <td>56.23303</td>\n",
       "      <td>-100.57194</td>\n",
       "    </tr>\n",
       "    <tr>\n",
       "      <th>2</th>\n",
       "      <td>2000-01-04</td>\n",
       "      <td>06EB002</td>\n",
       "      <td>2</td>\n",
       "      <td>259.527</td>\n",
       "      <td>56.23303</td>\n",
       "      <td>-100.57194</td>\n",
       "    </tr>\n",
       "    <tr>\n",
       "      <th>3</th>\n",
       "      <td>2000-01-05</td>\n",
       "      <td>06EB002</td>\n",
       "      <td>2</td>\n",
       "      <td>259.525</td>\n",
       "      <td>56.23303</td>\n",
       "      <td>-100.57194</td>\n",
       "    </tr>\n",
       "    <tr>\n",
       "      <th>4</th>\n",
       "      <td>2000-01-06</td>\n",
       "      <td>06EB002</td>\n",
       "      <td>2</td>\n",
       "      <td>259.523</td>\n",
       "      <td>56.23303</td>\n",
       "      <td>-100.57194</td>\n",
       "    </tr>\n",
       "  </tbody>\n",
       "</table>\n",
       "</div>"
      ],
      "text/plain": [
       "       index       ID PARAM    Value  Latitude  Longitude\n",
       "0 2000-01-02  06EB002     2  259.530  56.23303 -100.57194\n",
       "1 2000-01-03  06EB002     2  259.527  56.23303 -100.57194\n",
       "2 2000-01-04  06EB002     2  259.527  56.23303 -100.57194\n",
       "3 2000-01-05  06EB002     2  259.525  56.23303 -100.57194\n",
       "4 2000-01-06  06EB002     2  259.523  56.23303 -100.57194"
      ]
     },
     "execution_count": 13,
     "metadata": {},
     "output_type": "execute_result"
    }
   ],
   "source": [
    "all_data.drop(all_data[all_data['Longitude'].isnull()].index , inplace = True)\n",
    "all_data.head()"
   ]
  },
  {
   "cell_type": "code",
   "execution_count": 14,
   "metadata": {},
   "outputs": [
    {
     "name": "stdout",
     "output_type": "stream",
     "text": [
      "number of staions = 62\n"
     ]
    }
   ],
   "source": [
    "print('number of staions =' , all_data[' ID'].nunique() )"
   ]
  },
  {
   "cell_type": "markdown",
   "metadata": {},
   "source": [
    "### Filling missed Values "
   ]
  },
  {
   "cell_type": "code",
   "execution_count": 15,
   "metadata": {},
   "outputs": [
    {
     "name": "stdout",
     "output_type": "stream",
     "text": [
      "Missing value ratio : \n"
     ]
    },
    {
     "data": {
      "text/plain": [
       "index        0.000000\n",
       " ID          0.000000\n",
       "PARAM        0.000000\n",
       "Value        0.016191\n",
       "Latitude     0.000000\n",
       "Longitude    0.000000\n",
       "dtype: float64"
      ]
     },
     "execution_count": 15,
     "metadata": {},
     "output_type": "execute_result"
    }
   ],
   "source": [
    "print('Missing value ratio : ') \n",
    "all_data.isnull().sum() / all_data.shape[0]"
   ]
  },
  {
   "cell_type": "code",
   "execution_count": 16,
   "metadata": {},
   "outputs": [],
   "source": [
    "all_data.fillna(method='ffill' , inplace = True)"
   ]
  },
  {
   "cell_type": "code",
   "execution_count": 19,
   "metadata": {},
   "outputs": [],
   "source": [
    "all_data.columns = ['Date', 'ID', 'PARAM', 'Value', 'Latitude', 'Longitude']"
   ]
  },
  {
   "cell_type": "code",
   "execution_count": 20,
   "metadata": {},
   "outputs": [],
   "source": [
    "all_data.to_csv('preprocessed_data.csv' , index = False )"
   ]
  },
  {
   "cell_type": "markdown",
   "metadata": {},
   "source": [
    "# Add Climate Data "
   ]
  },
  {
   "cell_type": "code",
   "execution_count": 19,
   "metadata": {},
   "outputs": [],
   "source": [
    "### TO do "
   ]
  },
  {
   "cell_type": "code",
   "execution_count": 21,
   "metadata": {},
   "outputs": [
    {
     "data": {
      "text/html": [
       "<div>\n",
       "<style scoped>\n",
       "    .dataframe tbody tr th:only-of-type {\n",
       "        vertical-align: middle;\n",
       "    }\n",
       "\n",
       "    .dataframe tbody tr th {\n",
       "        vertical-align: top;\n",
       "    }\n",
       "\n",
       "    .dataframe thead th {\n",
       "        text-align: right;\n",
       "    }\n",
       "</style>\n",
       "<table border=\"1\" class=\"dataframe\">\n",
       "  <thead>\n",
       "    <tr style=\"text-align: right;\">\n",
       "      <th></th>\n",
       "      <th>Date</th>\n",
       "      <th>ID</th>\n",
       "      <th>PARAM</th>\n",
       "      <th>Value</th>\n",
       "      <th>Latitude</th>\n",
       "      <th>Longitude</th>\n",
       "    </tr>\n",
       "  </thead>\n",
       "  <tbody>\n",
       "    <tr>\n",
       "      <th>0</th>\n",
       "      <td>2000-01-02</td>\n",
       "      <td>06EB002</td>\n",
       "      <td>2</td>\n",
       "      <td>259.530</td>\n",
       "      <td>56.23303</td>\n",
       "      <td>-100.57194</td>\n",
       "    </tr>\n",
       "    <tr>\n",
       "      <th>1</th>\n",
       "      <td>2000-01-03</td>\n",
       "      <td>06EB002</td>\n",
       "      <td>2</td>\n",
       "      <td>259.527</td>\n",
       "      <td>56.23303</td>\n",
       "      <td>-100.57194</td>\n",
       "    </tr>\n",
       "    <tr>\n",
       "      <th>2</th>\n",
       "      <td>2000-01-04</td>\n",
       "      <td>06EB002</td>\n",
       "      <td>2</td>\n",
       "      <td>259.527</td>\n",
       "      <td>56.23303</td>\n",
       "      <td>-100.57194</td>\n",
       "    </tr>\n",
       "    <tr>\n",
       "      <th>3</th>\n",
       "      <td>2000-01-05</td>\n",
       "      <td>06EB002</td>\n",
       "      <td>2</td>\n",
       "      <td>259.525</td>\n",
       "      <td>56.23303</td>\n",
       "      <td>-100.57194</td>\n",
       "    </tr>\n",
       "    <tr>\n",
       "      <th>4</th>\n",
       "      <td>2000-01-06</td>\n",
       "      <td>06EB002</td>\n",
       "      <td>2</td>\n",
       "      <td>259.523</td>\n",
       "      <td>56.23303</td>\n",
       "      <td>-100.57194</td>\n",
       "    </tr>\n",
       "  </tbody>\n",
       "</table>\n",
       "</div>"
      ],
      "text/plain": [
       "        Date       ID PARAM    Value  Latitude  Longitude\n",
       "0 2000-01-02  06EB002     2  259.530  56.23303 -100.57194\n",
       "1 2000-01-03  06EB002     2  259.527  56.23303 -100.57194\n",
       "2 2000-01-04  06EB002     2  259.527  56.23303 -100.57194\n",
       "3 2000-01-05  06EB002     2  259.525  56.23303 -100.57194\n",
       "4 2000-01-06  06EB002     2  259.523  56.23303 -100.57194"
      ]
     },
     "execution_count": 21,
     "metadata": {},
     "output_type": "execute_result"
    }
   ],
   "source": [
    "all_data.head()"
   ]
  },
  {
   "cell_type": "code",
   "execution_count": null,
   "metadata": {},
   "outputs": [],
   "source": []
  }
 ],
 "metadata": {
  "kernelspec": {
   "display_name": "Python 3",
   "language": "python",
   "name": "python3"
  },
  "language_info": {
   "codemirror_mode": {
    "name": "ipython",
    "version": 3
   },
   "file_extension": ".py",
   "mimetype": "text/x-python",
   "name": "python",
   "nbconvert_exporter": "python",
   "pygments_lexer": "ipython3",
   "version": "3.8.3"
  }
 },
 "nbformat": 4,
 "nbformat_minor": 4
}
