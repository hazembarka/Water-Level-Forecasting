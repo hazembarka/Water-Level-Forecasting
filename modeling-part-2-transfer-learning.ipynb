{
 "cells": [
  {
   "cell_type": "code",
   "execution_count": 1,
   "metadata": {
    "execution": {
     "iopub.execute_input": "2020-12-30T03:17:25.625261Z",
     "iopub.status.busy": "2020-12-30T03:17:25.624383Z",
     "iopub.status.idle": "2020-12-30T03:17:28.698899Z",
     "shell.execute_reply": "2020-12-30T03:17:28.696942Z"
    },
    "id": "2OuE3YOQXU3q",
    "outputId": "4bb6ef86-2960-4bf4-96d1-81592d068fcb",
    "papermill": {
     "duration": 3.100772,
     "end_time": "2020-12-30T03:17:28.699072",
     "exception": false,
     "start_time": "2020-12-30T03:17:25.598300",
     "status": "completed"
    },
    "tags": []
   },
   "outputs": [
    {
     "name": "stdout",
     "output_type": "stream",
     "text": [
      "Cloning into 'Water-Level-Forecasting'...\r\n",
      "remote: Enumerating objects: 144, done.\u001b[K\r\n",
      "remote: Counting objects: 100% (144/144), done.\u001b[K\r\n",
      "remote: Compressing objects: 100% (104/104), done.\u001b[K\r\n",
      "remote: Total 144 (delta 59), reused 118 (delta 36), pack-reused 0\u001b[K\r\n",
      "Receiving objects: 100% (144/144), 15.20 MiB | 16.02 MiB/s, done.\r\n",
      "Resolving deltas: 100% (59/59), done.\r\n"
     ]
    }
   ],
   "source": [
    "!git clone https://github.com/nhoues/Water-Level-Forecasting.git"
   ]
  },
  {
   "cell_type": "code",
   "execution_count": 2,
   "metadata": {
    "execution": {
     "iopub.execute_input": "2020-12-30T03:17:28.755006Z",
     "iopub.status.busy": "2020-12-30T03:17:28.754075Z",
     "iopub.status.idle": "2020-12-30T03:17:28.758885Z",
     "shell.execute_reply": "2020-12-30T03:17:28.758300Z"
    },
    "id": "ccCf4FX4XUxb",
    "outputId": "0e797121-c382-4234-c11a-5be38eb8ea50",
    "papermill": {
     "duration": 0.034081,
     "end_time": "2020-12-30T03:17:28.758990",
     "exception": false,
     "start_time": "2020-12-30T03:17:28.724909",
     "status": "completed"
    },
    "tags": []
   },
   "outputs": [
    {
     "name": "stdout",
     "output_type": "stream",
     "text": [
      "/kaggle/working/Water-Level-Forecasting\n"
     ]
    }
   ],
   "source": [
    "cd Water-Level-Forecasting "
   ]
  },
  {
   "cell_type": "markdown",
   "metadata": {
    "id": "8GuuGzrkJRoa",
    "papermill": {
     "duration": 0.024287,
     "end_time": "2020-12-30T03:17:28.807347",
     "exception": false,
     "start_time": "2020-12-30T03:17:28.783060",
     "status": "completed"
    },
    "tags": []
   },
   "source": [
    "# SET UP"
   ]
  },
  {
   "cell_type": "code",
   "execution_count": 3,
   "metadata": {
    "execution": {
     "iopub.execute_input": "2020-12-30T03:17:28.871122Z",
     "iopub.status.busy": "2020-12-30T03:17:28.870220Z",
     "iopub.status.idle": "2020-12-30T03:17:39.701270Z",
     "shell.execute_reply": "2020-12-30T03:17:39.700672Z"
    },
    "id": "d7YytX2BJRog",
    "outputId": "9178fe4a-5920-4d04-dbd2-45c9c323bc1f",
    "papermill": {
     "duration": 10.869398,
     "end_time": "2020-12-30T03:17:39.701396",
     "exception": false,
     "start_time": "2020-12-30T03:17:28.831998",
     "status": "completed"
    },
    "tags": []
   },
   "outputs": [
    {
     "data": {
      "text/html": [
       "        <script type=\"text/javascript\">\n",
       "        window.PlotlyConfig = {MathJaxConfig: 'local'};\n",
       "        if (window.MathJax) {MathJax.Hub.Config({SVG: {font: \"STIX-Web\"}});}\n",
       "        if (typeof require !== 'undefined') {\n",
       "        require.undef(\"plotly\");\n",
       "        requirejs.config({\n",
       "            paths: {\n",
       "                'plotly': ['https://cdn.plot.ly/plotly-latest.min']\n",
       "            }\n",
       "        });\n",
       "        require(['plotly'], function(Plotly) {\n",
       "            window._Plotly = Plotly;\n",
       "        });\n",
       "        }\n",
       "        </script>\n",
       "        "
      ]
     },
     "metadata": {},
     "output_type": "display_data"
    },
    {
     "data": {
      "text/html": [
       "        <script type=\"text/javascript\">\n",
       "        window.PlotlyConfig = {MathJaxConfig: 'local'};\n",
       "        if (window.MathJax) {MathJax.Hub.Config({SVG: {font: \"STIX-Web\"}});}\n",
       "        if (typeof require !== 'undefined') {\n",
       "        require.undef(\"plotly\");\n",
       "        requirejs.config({\n",
       "            paths: {\n",
       "                'plotly': ['https://cdn.plot.ly/plotly-latest.min']\n",
       "            }\n",
       "        });\n",
       "        require(['plotly'], function(Plotly) {\n",
       "            window._Plotly = Plotly;\n",
       "        });\n",
       "        }\n",
       "        </script>\n",
       "        "
      ]
     },
     "metadata": {},
     "output_type": "display_data"
    }
   ],
   "source": [
    "import os\n",
    "import warnings\n",
    "\n",
    "warnings.filterwarnings('ignore')\n",
    "\n",
    "import numpy as np\n",
    "import pandas as pd\n",
    "import matplotlib.pyplot as plt\n",
    "plt.style.use('fivethirtyeight')\n",
    "from pylab import rcParams\n",
    "rcParams['figure.figsize'] = 20, 8\n",
    "\n",
    "import math\n",
    "from statsmodels.tsa.stattools import acf,pacf\n",
    "from statsmodels.tsa.stattools import adfuller\n",
    "from sklearn.metrics import mean_squared_error\n",
    "from sklearn.metrics import mean_absolute_error\n",
    "import math\n",
    "\n",
    "from plotly.offline import download_plotlyjs, init_notebook_mode, plot, iplot\n",
    "import plotly as py\n",
    "import plotly.io as pio\n",
    "import plotly.graph_objs as go\n",
    "from plotly.subplots import make_subplots\n",
    "\n",
    "\n",
    "from models import * \n",
    "from utils import * \n",
    "\n",
    "# Show charts when running kernel\n",
    "init_notebook_mode(connected=True)\n",
    "\n",
    "# Change default background color for all visualizations\n",
    "layout=go.Layout(paper_bgcolor='rgba(0,0,0,0)', plot_bgcolor='rgba(250,250,250,0.8)')\n",
    "fig = go.Figure(layout=layout)\n",
    "templated_fig = pio.to_templated(fig)\n",
    "pio.templates['my_template'] = templated_fig.layout.template\n",
    "pio.templates.default = 'my_template'\n",
    "\n"
   ]
  },
  {
   "cell_type": "markdown",
   "metadata": {
    "id": "3KDL4alMJRoq",
    "papermill": {
     "duration": 0.025151,
     "end_time": "2020-12-30T03:17:39.752947",
     "exception": false,
     "start_time": "2020-12-30T03:17:39.727796",
     "status": "completed"
    },
    "tags": []
   },
   "source": [
    "# Feature Engineering"
   ]
  },
  {
   "cell_type": "code",
   "execution_count": 4,
   "metadata": {
    "execution": {
     "iopub.execute_input": "2020-12-30T03:17:39.809333Z",
     "iopub.status.busy": "2020-12-30T03:17:39.808431Z",
     "iopub.status.idle": "2020-12-30T03:17:40.288342Z",
     "shell.execute_reply": "2020-12-30T03:17:40.287664Z"
    },
    "id": "7tC3X5AnXtZc",
    "papermill": {
     "duration": 0.510455,
     "end_time": "2020-12-30T03:17:40.288484",
     "exception": false,
     "start_time": "2020-12-30T03:17:39.778029",
     "status": "completed"
    },
    "tags": []
   },
   "outputs": [],
   "source": [
    "data = pd.read_csv('preprocessed_data.csv')\n",
    "hydrometric_stations = data.ID.unique().tolist()\n",
    "hydrometric_stations.remove('05RE003')"
   ]
  },
  {
   "cell_type": "code",
   "execution_count": 5,
   "metadata": {
    "execution": {
     "iopub.execute_input": "2020-12-30T03:17:40.434899Z",
     "iopub.status.busy": "2020-12-30T03:17:40.434130Z",
     "iopub.status.idle": "2020-12-30T03:17:40.481868Z",
     "shell.execute_reply": "2020-12-30T03:17:40.481238Z"
    },
    "id": "2wWdiysddBXH",
    "papermill": {
     "duration": 0.166712,
     "end_time": "2020-12-30T03:17:40.482007",
     "exception": false,
     "start_time": "2020-12-30T03:17:40.315295",
     "status": "completed"
    },
    "tags": []
   },
   "outputs": [],
   "source": [
    "test_station = data[data['ID'] == '05RE003']\n",
    "\n",
    "test_station['Water Level_previous'] = test_station[\"Value\"].shift(1) \n",
    "test_station['WL_pct'] = 10000*(test_station[\"Value\"]  - test_station['Water Level_previous'] ) / test_station['Water Level_previous']\n",
    "test_station['WL_mean_12'] = test_station['WL_pct'].rolling(12).mean()\n",
    "test_station['WL_mean_18'] = test_station['WL_pct'].rolling(18).mean()\n",
    "test_station['WL_mean_24'] = test_station['WL_pct'].rolling(24).mean()\n",
    "test_station['WL_std_12']  = test_station['WL_pct'].rolling(12).std()\n",
    "test_station['WL_std_24']  = test_station['WL_pct'].rolling(24).std()\n",
    "test_station['WL_lag_12']  = test_station['WL_pct'].shift(12)\n",
    "test_station['WL_lag_6']   = test_station['WL_pct'].shift(6)\n",
    "\n",
    "test_station['Date'] = pd.to_datetime(test_station['Date'])\n",
    "test_station['dayOfweek'] =  test_station['Date'].dt.dayofweek\n",
    "test_station['month'] =  test_station['Date'].dt.month\n",
    "\n",
    "test_station.dropna( inplace = True )\n",
    "\n"
   ]
  },
  {
   "cell_type": "code",
   "execution_count": 6,
   "metadata": {
    "execution": {
     "iopub.execute_input": "2020-12-30T03:17:40.540171Z",
     "iopub.status.busy": "2020-12-30T03:17:40.539234Z",
     "iopub.status.idle": "2020-12-30T03:17:40.548553Z",
     "shell.execute_reply": "2020-12-30T03:17:40.549315Z"
    },
    "papermill": {
     "duration": 0.041745,
     "end_time": "2020-12-30T03:17:40.549495",
     "exception": false,
     "start_time": "2020-12-30T03:17:40.507750",
     "status": "completed"
    },
    "tags": []
   },
   "outputs": [
    {
     "name": "stdout",
     "output_type": "stream",
     "text": [
      "(515, 17)\n",
      "(213, 17)\n"
     ]
    }
   ],
   "source": [
    "test_station = test_station[test_station['Date']>'2018-01-01']\n",
    "train_data_target = test_station[test_station['Date']< '2019-06-01']\n",
    "val_data_target   = test_station[test_station['Date']> '2019-06-01']\n",
    "print(train_data_target.shape)\n",
    "print(val_data_target.shape)"
   ]
  },
  {
   "cell_type": "code",
   "execution_count": 7,
   "metadata": {
    "execution": {
     "iopub.execute_input": "2020-12-30T03:17:40.699191Z",
     "iopub.status.busy": "2020-12-30T03:17:40.698167Z",
     "iopub.status.idle": "2020-12-30T03:17:47.589715Z",
     "shell.execute_reply": "2020-12-30T03:17:47.588768Z"
    },
    "id": "kclt08RZJRoq",
    "papermill": {
     "duration": 7.01377,
     "end_time": "2020-12-30T03:17:47.589845",
     "exception": false,
     "start_time": "2020-12-30T03:17:40.576075",
     "status": "completed"
    },
    "tags": []
   },
   "outputs": [],
   "source": [
    "all_stations_train = []\n",
    "all_stations_test  = []\n",
    "\n",
    "for station in hydrometric_stations : \n",
    "\n",
    "  hydro = data[data['ID'] == station]\n",
    "\n",
    "  hydro['Water Level_previous'] = hydro[\"Value\"].shift(1) \n",
    "  hydro['WL_pct'] = 10000*(hydro[\"Value\"]  - hydro['Water Level_previous'] ) / hydro['Water Level_previous']\n",
    "  hydro['WL_mean_12'] = hydro['WL_pct'].rolling(12).mean()\n",
    "  hydro['WL_mean_18'] = hydro['WL_pct'].rolling(18).mean()\n",
    "  hydro['WL_mean_24'] = hydro['WL_pct'].rolling(24).mean()\n",
    "  hydro['WL_std_12']  = hydro['WL_pct'].rolling(12).std()\n",
    "  hydro['WL_std_24']  = hydro['WL_pct'].rolling(24).std()\n",
    "  hydro['WL_lag_12']  = hydro['WL_pct'].shift(12)\n",
    "  hydro['WL_lag_6']  = hydro['WL_pct'].shift(6)\n",
    "\n",
    "  hydro['Date'] = pd.to_datetime(hydro['Date'])\n",
    "  hydro['dayOfweek'] =  hydro['Date'].dt.dayofweek\n",
    "  hydro['month'] =  hydro['Date'].dt.month\n",
    "  \n",
    "  hydro.dropna( inplace = True )\n",
    "\n",
    "  seq_len = len(hydro)\n",
    "  all_stations_train.append(hydro.iloc[:int(0.8*seq_len)])\n",
    "  all_stations_test.append(hydro.iloc[int(0.8*seq_len):] )"
   ]
  },
  {
   "cell_type": "code",
   "execution_count": 8,
   "metadata": {
    "execution": {
     "iopub.execute_input": "2020-12-30T03:17:47.649532Z",
     "iopub.status.busy": "2020-12-30T03:17:47.648818Z",
     "iopub.status.idle": "2020-12-30T03:17:47.653625Z",
     "shell.execute_reply": "2020-12-30T03:17:47.653070Z"
    },
    "id": "ZlEH3q85JRor",
    "papermill": {
     "duration": 0.036862,
     "end_time": "2020-12-30T03:17:47.653756",
     "exception": false,
     "start_time": "2020-12-30T03:17:47.616894",
     "status": "completed"
    },
    "tags": []
   },
   "outputs": [],
   "source": [
    "num_feat = ['WL_pct','WL_mean_12','WL_mean_18','WL_mean_18','WL_mean_24','WL_std_12','WL_std_24','WL_lag_12','WL_lag_6']\n",
    "cat_feat = ['dayOfweek','month']\n",
    "embbedded_size  = [(7,4),(12,6)]"
   ]
  },
  {
   "cell_type": "markdown",
   "metadata": {
    "papermill": {
     "duration": 0.030174,
     "end_time": "2020-12-30T03:17:47.710380",
     "exception": false,
     "start_time": "2020-12-30T03:17:47.680206",
     "status": "completed"
    },
    "tags": []
   },
   "source": [
    "# Train in tow years of Target Station "
   ]
  },
  {
   "cell_type": "code",
   "execution_count": 9,
   "metadata": {
    "execution": {
     "iopub.execute_input": "2020-12-30T03:17:47.781800Z",
     "iopub.status.busy": "2020-12-30T03:17:47.780600Z",
     "iopub.status.idle": "2020-12-30T03:18:10.403485Z",
     "shell.execute_reply": "2020-12-30T03:18:10.404315Z"
    },
    "papermill": {
     "duration": 22.667178,
     "end_time": "2020-12-30T03:18:10.404505",
     "exception": false,
     "start_time": "2020-12-30T03:17:47.737327",
     "status": "completed"
    },
    "tags": []
   },
   "outputs": [
    {
     "name": "stdout",
     "output_type": "stream",
     "text": [
      "--------- Epoch 0 ---------\n",
      " train_loss  = 0.9946431070566177\n",
      " val_loss  = 2.3076960978408656\n",
      "--------- Epoch 10 ---------\n",
      " train_loss  = 0.8787719458341599\n",
      " val_loss  = 2.219873490432898\n",
      "--------- Epoch 20 ---------\n",
      " train_loss  = 0.6230669692158699\n",
      " val_loss  = 2.340820726007223\n",
      "Eraly Stopping on Epoch 27\n",
      "Best Loss =  2.1330549841125808\n"
     ]
    }
   ],
   "source": [
    "# Hyperparameters \n",
    "train_batch_size = 64\n",
    "valid_batch_size = 32\n",
    "epochs = 100\n",
    "input_size = len(num_feat)\n",
    "hidden_size = 32\n",
    "lr = 5e-4\n",
    "device = torch.device('cuda')\n",
    "window_size = 30  \n",
    "path = 'LSTM_Staked_target_without_transfer_learning.pth'\n",
    "verbose = False\n",
    "\n",
    "train_dataset = hydro_dataset(train_data_target  , window_size , num_feat , cat_feat )\n",
    "valid_dataset = hydro_dataset(val_data_target    , window_size , num_feat , cat_feat )\n",
    "\n",
    "stacked_lstm = StackedLSTMs(input_size,hidden_size)\n",
    "stacked_lstm = stacked_lstm.to(device)\n",
    "val_loss, train_loss = run(\n",
    "    stacked_lstm,\n",
    "    train_dataset,\n",
    "    valid_dataset,\n",
    "    lr,\n",
    "    epochs,\n",
    "    train_batch_size,\n",
    "    valid_batch_size,\n",
    "    device,\n",
    "    path,\n",
    "    verbose , \n",
    "    is_forcaster = True \n",
    ")"
   ]
  },
  {
   "cell_type": "markdown",
   "metadata": {
    "id": "D1Y4V1MGJRos",
    "papermill": {
     "duration": 0.029973,
     "end_time": "2020-12-30T03:18:10.465974",
     "exception": false,
     "start_time": "2020-12-30T03:18:10.436001",
     "status": "completed"
    },
    "tags": []
   },
   "source": [
    "# Train on all data "
   ]
  },
  {
   "cell_type": "code",
   "execution_count": 10,
   "metadata": {
    "execution": {
     "iopub.execute_input": "2020-12-30T03:18:10.542030Z",
     "iopub.status.busy": "2020-12-30T03:18:10.540928Z",
     "iopub.status.idle": "2020-12-30T03:18:10.805184Z",
     "shell.execute_reply": "2020-12-30T03:18:10.804519Z"
    },
    "id": "TyHUP98-ZOV9",
    "papermill": {
     "duration": 0.308385,
     "end_time": "2020-12-30T03:18:10.805309",
     "exception": false,
     "start_time": "2020-12-30T03:18:10.496924",
     "status": "completed"
    },
    "tags": []
   },
   "outputs": [],
   "source": [
    "train_data = pd.concat(all_stations_train)\n",
    "val_data   = pd.concat(all_stations_test)\n",
    "filter = train_data.groupby('ID')['WL_pct'].agg(['mean']) \n",
    "filter = filter[filter['mean']<.002]\n",
    "filter = filter[filter['mean']>-0.01]\n",
    "train_data = train_data[train_data.ID.isin(filter.index)]\n",
    "val_data = val_data[val_data.ID.isin(filter.index)]"
   ]
  },
  {
   "cell_type": "code",
   "execution_count": 11,
   "metadata": {
    "execution": {
     "iopub.execute_input": "2020-12-30T03:18:10.901038Z",
     "iopub.status.busy": "2020-12-30T03:18:10.899998Z",
     "iopub.status.idle": "2020-12-30T03:24:23.769275Z",
     "shell.execute_reply": "2020-12-30T03:24:23.769968Z"
    },
    "id": "ACGykTEtJRot",
    "outputId": "baf58978-f659-425d-9131-67bc922c17aa",
    "papermill": {
     "duration": 372.933528,
     "end_time": "2020-12-30T03:24:23.770131",
     "exception": false,
     "start_time": "2020-12-30T03:18:10.836603",
     "status": "completed"
    },
    "tags": []
   },
   "outputs": [
    {
     "name": "stdout",
     "output_type": "stream",
     "text": [
      "--------- Epoch 0 ---------\n",
      " train_loss  = 1.8774501578396103\n",
      " val_loss  = 2.0199814422062703\n",
      "--------- Epoch 10 ---------\n",
      " train_loss  = 1.5059626156905568\n",
      " val_loss  = 1.9207768431032735\n",
      "Eraly Stopping on Epoch 19\n",
      "Best Loss =  1.8918997730938643\n"
     ]
    }
   ],
   "source": [
    "# Hyperparameters \n",
    "train_batch_size = 256\n",
    "valid_batch_size = 128\n",
    "epochs = 100\n",
    "input_size = len(num_feat)\n",
    "hidden_size = 32\n",
    "lr = 1e-3\n",
    "device = torch.device('cuda')\n",
    "window_size = 30  \n",
    "path = 'LSTM_Staked.pth'\n",
    "verbose = False\n",
    "\n",
    "train_dataset = hydro_dataset_transfer_learning(train_data , hydrometric_stations , window_size , num_feat , cat_feat )\n",
    "valid_dataset = hydro_dataset_transfer_learning(val_data   , hydrometric_stations , window_size , num_feat , cat_feat )\n",
    "\n",
    "stacked_lstm = StackedLSTMs(input_size,hidden_size)\n",
    "stacked_lstm = stacked_lstm.to(device)\n",
    "\n",
    "val_loss, train_loss = run(\n",
    "    stacked_lstm,\n",
    "    train_dataset,\n",
    "    valid_dataset,\n",
    "    lr,\n",
    "    epochs,\n",
    "    train_batch_size,\n",
    "    valid_batch_size,\n",
    "    device,\n",
    "    path,\n",
    "    verbose , \n",
    "    is_forcaster = True \n",
    ")"
   ]
  },
  {
   "cell_type": "markdown",
   "metadata": {
    "id": "gPRBRMz3ZZjH",
    "papermill": {
     "duration": 0.030844,
     "end_time": "2020-12-30T03:24:23.831965",
     "exception": false,
     "start_time": "2020-12-30T03:24:23.801121",
     "status": "completed"
    },
    "tags": []
   },
   "source": [
    "# Transfer Learning to the target station "
   ]
  },
  {
   "cell_type": "code",
   "execution_count": 12,
   "metadata": {
    "execution": {
     "iopub.execute_input": "2020-12-30T03:24:23.911006Z",
     "iopub.status.busy": "2020-12-30T03:24:23.910088Z",
     "iopub.status.idle": "2020-12-30T03:24:30.742049Z",
     "shell.execute_reply": "2020-12-30T03:24:30.742752Z"
    },
    "id": "z9v4pncuZYzn",
    "outputId": "4edfab48-d6f0-46c9-ae7a-0a7ab96dc9d5",
    "papermill": {
     "duration": 6.879626,
     "end_time": "2020-12-30T03:24:30.742932",
     "exception": false,
     "start_time": "2020-12-30T03:24:23.863306",
     "status": "completed"
    },
    "tags": []
   },
   "outputs": [
    {
     "name": "stdout",
     "output_type": "stream",
     "text": [
      "--------- Epoch 0 ---------\n",
      " train_loss  = 1.1371384114027023\n",
      " val_loss  = 2.1780927876631417\n",
      "--------- Epoch 10 ---------\n",
      " train_loss  = 0.8928396664559841\n",
      " val_loss  = 2.3983886167407036\n",
      "Eraly Stopping on Epoch 11\n",
      "Best Loss =  2.1780927876631417\n"
     ]
    }
   ],
   "source": [
    "# Hyperparameters \n",
    "train_batch_size = 64\n",
    "valid_batch_size = 32\n",
    "epochs = 100\n",
    "input_size = len(num_feat)\n",
    "hidden_size = 32\n",
    "lr = 5e-5\n",
    "device = torch.device('cuda')\n",
    "window_size = 30  \n",
    "path = 'LSTM_Staked_target_with_transfer_learning.pth'\n",
    "verbose = False\n",
    "\n",
    "train_dataset = hydro_dataset(train_data_target  , window_size , num_feat , cat_feat )\n",
    "valid_dataset = hydro_dataset(val_data_target    , window_size , num_feat , cat_feat )\n",
    "\n",
    "stacked_lstm = StackedLSTMs(input_size,hidden_size)\n",
    "stacked_lstm = stacked_lstm.to(device)\n",
    "stacked_lstm.load_state_dict(torch.load('LSTM_Staked.pth'))\n",
    "val_loss, train_loss = run(\n",
    "    stacked_lstm,\n",
    "    train_dataset,\n",
    "    valid_dataset,\n",
    "    lr,\n",
    "    epochs,\n",
    "    train_batch_size,\n",
    "    valid_batch_size,\n",
    "    device,\n",
    "    path,\n",
    "    verbose , \n",
    "    is_forcaster = True \n",
    ")"
   ]
  },
  {
   "cell_type": "markdown",
   "metadata": {
    "id": "vriLRUur_RNd",
    "papermill": {
     "duration": 0.032127,
     "end_time": "2020-12-30T03:24:30.808901",
     "exception": false,
     "start_time": "2020-12-30T03:24:30.776774",
     "status": "completed"
    },
    "tags": []
   },
   "source": [
    "# Result Evaluation "
   ]
  },
  {
   "cell_type": "code",
   "execution_count": 13,
   "metadata": {
    "execution": {
     "iopub.execute_input": "2020-12-30T03:24:30.883335Z",
     "iopub.status.busy": "2020-12-30T03:24:30.882479Z",
     "iopub.status.idle": "2020-12-30T03:24:30.886676Z",
     "shell.execute_reply": "2020-12-30T03:24:30.886085Z"
    },
    "id": "SZB59Nfx_jhk",
    "papermill": {
     "duration": 0.044345,
     "end_time": "2020-12-30T03:24:30.886772",
     "exception": false,
     "start_time": "2020-12-30T03:24:30.842427",
     "status": "completed"
    },
    "tags": []
   },
   "outputs": [],
   "source": [
    "def mean_absolute_percentage_error(y_true, y_pred): \n",
    "    y_true, y_pred = np.array(y_true), np.array(y_pred)\n",
    "    return np.mean(np.abs((y_true - y_pred) / y_true)) * 100"
   ]
  },
  {
   "cell_type": "code",
   "execution_count": 14,
   "metadata": {
    "execution": {
     "iopub.execute_input": "2020-12-30T03:24:30.968084Z",
     "iopub.status.busy": "2020-12-30T03:24:30.967057Z",
     "iopub.status.idle": "2020-12-30T03:24:31.532940Z",
     "shell.execute_reply": "2020-12-30T03:24:31.532358Z"
    },
    "id": "xkldkDgFXrKR",
    "outputId": "cf8305f0-5ba4-491f-f9ea-2be3a8fb4905",
    "papermill": {
     "duration": 0.612158,
     "end_time": "2020-12-30T03:24:31.533059",
     "exception": false,
     "start_time": "2020-12-30T03:24:30.920901",
     "status": "completed"
    },
    "tags": []
   },
   "outputs": [
    {
     "name": "stderr",
     "output_type": "stream",
     "text": [
      "100%|██████████| 3/3 [00:00<00:00, 31.98it/s]\n",
      "100%|██████████| 3/3 [00:00<00:00, 30.78it/s]\n"
     ]
    },
    {
     "data": {
      "application/vnd.plotly.v1+json": {
       "config": {
        "plotlyServerURL": "https://plot.ly"
       },
       "data": [
        {
         "name": "Ground Truth values",
         "type": "scatter",
         "y": [
          217.533,
          217.52,
          217.517,
          217.479,
          217.495,
          217.512,
          217.52900000000002,
          217.497,
          217.477,
          217.518,
          217.49099999999999,
          217.52,
          217.51,
          217.513,
          217.505,
          217.52599999999998,
          217.52900000000002,
          217.53900000000002,
          217.514,
          217.52700000000002,
          217.528,
          217.537,
          217.544,
          217.56900000000002,
          217.52900000000002,
          217.52,
          217.576,
          217.483,
          217.517,
          217.543,
          217.497,
          217.5,
          217.514,
          217.528,
          217.49099999999999,
          217.513,
          217.503,
          217.44299999999998,
          217.48,
          217.503,
          217.458,
          217.465,
          217.447,
          217.46400000000003,
          217.458,
          217.437,
          217.46900000000002,
          217.46099999999998,
          217.435,
          217.43,
          217.382,
          217.4,
          217.44099999999997,
          217.445,
          217.5,
          217.468,
          217.40099999999998,
          217.35,
          217.417,
          217.40200000000002,
          217.445,
          217.40200000000002,
          217.387,
          217.407,
          217.403,
          217.38099999999997,
          217.392,
          217.36,
          217.415,
          217.37599999999998,
          217.352,
          217.38299999999998,
          217.37599999999998,
          217.357,
          217.38,
          217.399,
          217.36900000000003,
          217.382,
          217.40400000000002,
          217.363,
          217.42,
          217.396,
          217.399,
          217.43200000000002,
          217.429,
          217.408,
          217.407,
          217.422,
          217.405,
          217.40099999999998,
          217.35299999999998,
          217.40099999999998,
          217.43,
          217.424,
          217.472,
          217.485,
          217.46599999999998,
          217.43599999999998,
          217.53900000000002,
          217.43099999999998,
          217.398,
          217.28799999999998,
          217.418,
          217.537,
          217.56400000000002,
          217.56400000000002,
          217.56900000000002,
          217.605,
          217.62900000000002,
          217.611,
          217.625,
          217.59599999999998,
          217.52200000000002,
          217.59900000000002,
          217.668,
          217.708,
          217.75799999999998,
          217.695,
          217.736,
          217.763,
          217.755,
          217.793,
          217.74099999999999,
          217.752,
          217.77900000000002,
          217.785,
          217.78400000000002,
          217.808,
          217.827,
          217.854,
          217.81799999999998,
          217.842,
          217.84400000000002,
          217.889,
          217.877,
          217.893,
          217.842,
          217.88400000000001,
          217.859,
          217.88400000000001,
          217.894,
          217.89700000000002,
          217.895,
          217.916,
          217.91,
          217.90400000000002,
          217.903,
          217.91400000000002,
          217.91299999999998,
          217.919,
          217.917,
          217.921,
          217.924,
          217.93099999999998,
          217.926,
          217.924,
          217.923,
          217.924,
          217.924,
          217.907,
          217.922,
          217.918,
          217.921,
          217.91400000000002,
          217.912,
          217.91400000000002,
          217.922,
          217.918,
          217.91400000000002,
          217.923,
          217.905,
          217.91,
          217.91099999999997,
          217.91,
          217.90200000000002,
          217.907,
          217.903,
          217.903,
          217.908,
          217.899,
          217.894,
          217.892,
          217.892
         ]
        },
        {
         "name": "stacked_lstm predictions",
         "type": "scatter",
         "y": [
          217.52677908563615,
          217.5302641788125,
          217.5269493484497,
          217.52011160564422,
          217.49743304264547,
          217.5025708079338,
          217.51028865623474,
          217.52272458243374,
          217.50770812475682,
          217.49405883336067,
          217.511530423522,
          217.49981516218185,
          217.51315437316896,
          217.50673291921615,
          217.51359638011456,
          217.50984865128993,
          217.5227067477703,
          217.52534366166594,
          217.53287988996507,
          217.518900711298,
          217.5256386099458,
          217.53004857730863,
          217.53060765570402,
          217.54139370679857,
          217.56175081926585,
          217.54274368309976,
          217.52764946937563,
          217.5680632534027,
          217.50529635477068,
          217.51071196359396,
          217.53510335689785,
          217.51447524476052,
          217.50744134187698,
          217.5058840072155,
          217.52028542089462,
          217.50028184723854,
          217.50423580527305,
          217.50940430939195,
          217.47055426275728,
          217.47154824256896,
          217.49638826358316,
          217.4755498802662,
          217.46557032465935,
          217.46286408185958,
          217.46734416103365,
          217.45516143000125,
          217.44265067124368,
          217.4615597187281,
          217.45603567439315,
          217.45068176448345,
          217.44223408699037,
          217.4108163166046,
          217.40347275733947,
          217.43295153349635,
          217.43680881738663,
          217.49031588435173,
          217.46376139235497,
          217.4285748567581,
          217.38523778915405,
          217.40744917052984,
          217.40534320759775,
          217.43555162638424,
          217.41182229208948,
          217.40835358905792,
          217.40033934795858,
          217.39464194256067,
          217.38118139684198,
          217.3828260383606,
          217.37391438484192,
          217.40608424663543,
          217.3848105010986,
          217.35446148586274,
          217.37444835591313,
          217.36746158790586,
          217.36863402712345,
          217.37139664649962,
          217.38986461693048,
          217.3716948900223,
          217.3737464057207,
          217.39518836402897,
          217.36981477415563,
          217.41029352784156,
          217.3886140475273,
          217.39171760952473,
          217.42282435035708,
          217.42061502343415,
          217.4064061012268,
          217.3990564597249,
          217.41370600891113,
          217.40141053766013,
          217.39341950601337,
          217.3672248626947,
          217.39277160054442,
          217.42125210940839,
          217.41637982559206,
          217.46301709747314,
          217.4763147121668,
          217.46213732886312,
          217.44227273464202,
          217.52924931621553,
          217.44766642820832,
          217.4098435485363,
          217.32913356399536,
          217.4083324944973,
          217.5254989667535,
          217.55339231920243,
          217.55475394082072,
          217.55949436587096,
          217.59489616066216,
          217.61929716897012,
          217.60206323844193,
          217.61484334617853,
          217.5948067846298,
          217.54360022568704,
          217.59097162503005,
          217.6574002225399,
          217.69728148698806,
          217.74712327265738,
          217.6880450606346,
          217.72633133268354,
          217.7530445806384,
          217.74592753261328,
          217.78330283862354,
          217.73403061264753,
          217.74493940734865,
          217.77090008068086,
          217.77662725657225,
          217.77577008533478,
          217.79958742523192,
          217.8183529883623,
          217.84602714228632,
          217.81232644450662,
          217.83383281552793,
          217.83655987334254,
          217.88018169361354,
          217.87053273236754,
          217.8852724762559,
          217.8544650192261,
          217.87606500506402,
          217.86146722757817,
          217.87612993955614,
          217.88606464087962,
          217.88946714949608,
          217.8934934437275,
          217.90827166056633,
          217.90523323953153,
          217.8973630857468,
          217.90110374748707,
          217.90677829027177,
          217.91383127212524,
          217.9128562102914,
          217.91861061930658,
          217.91781766957044,
          217.921415132761,
          217.92823319393395,
          217.92636370325087,
          217.92615622091293,
          217.9248964265585,
          217.92807863473894,
          217.92636404943468,
          217.9132603458166,
          217.92225978326798,
          217.92044191789628,
          217.92375369000433,
          217.91727314901354,
          217.91727335834503,
          217.91698739790917,
          217.92116869354248,
          217.92119527554513,
          217.9172471716404,
          217.92440283608437,
          217.9109745490551,
          217.91571491718292,
          217.91274046003815,
          217.9122340130806,
          217.90787056303026,
          217.90881835770608,
          217.90840302085874,
          217.90479234826563,
          217.91000020265577,
          217.90292231333257,
          217.8987793979645,
          217.89646765708923
         ]
        },
        {
         "name": "transfer learning to stacked_lstm predictions",
         "type": "scatter",
         "y": [
          217.51990755999088,
          217.53390761840342,
          217.52025930404665,
          217.52073392677306,
          217.492559045434,
          217.50394496142866,
          217.51023679733277,
          217.52368404710296,
          217.49239783984424,
          217.48081101596355,
          217.52041150546074,
          217.49033886283635,
          217.5159678220749,
          217.50465858221054,
          217.51406311237812,
          217.50559635818004,
          217.52003584241865,
          217.5236062526703,
          217.53476000851396,
          217.51565950012207,
          217.5269740687609,
          217.5265867409706,
          217.5341603987813,
          217.53918937921526,
          217.56267155599596,
          217.53091892933847,
          217.5287126159668,
          217.56680530500412,
          217.50622969055175,
          217.53452871179582,
          217.545230250597,
          217.50005946421624,
          217.51065641641617,
          217.51532241415978,
          217.5200909357071,
          217.4872665195465,
          217.51432240808012,
          217.4964919770956,
          217.4476658205986,
          217.49174431324005,
          217.49271939808128,
          217.45045640301703,
          217.4702625411749,
          217.4478554161787,
          217.46353337287906,
          217.4513377854824,
          217.43579469627144,
          217.464203999877,
          217.447792042315,
          217.43304301947356,
          217.4311663854122,
          217.38922999310495,
          217.41176590919494,
          217.43270528411864,
          217.42517008006573,
          217.46480271220207,
          217.42970994806288,
          217.3916312869191,
          217.3621777653694,
          217.4273154141903,
          217.39799592578413,
          217.43479990392922,
          217.3919833353758,
          217.39080943882465,
          217.40764792335034,
          217.39880153393744,
          217.38405783247944,
          217.39625008392335,
          217.3656745815277,
          217.40561772465705,
          217.3677984600067,
          217.35878851890564,
          217.38411430513858,
          217.37548173522947,
          217.36132713258266,
          217.37717540502547,
          217.3874803467393,
          217.36525565761332,
          217.38140397906304,
          217.39669152545932,
          217.36271497142315,
          217.41152465581894,
          217.38651488208768,
          217.39705630147458,
          217.42054339790346,
          217.417880510211,
          217.40555083847045,
          217.40920293939115,
          217.4230885863304,
          217.40541466712952,
          217.4030214650631,
          217.3683131035566,
          217.4040581138134,
          217.42166682422163,
          217.4188680458069,
          217.45636741638185,
          217.4697164860368,
          217.45988194370267,
          217.4370108952522,
          217.51356005108357,
          217.42677507340906,
          217.41043961334228,
          217.34780944538116,
          217.42652710270883,
          217.46528386145832,
          217.50397193837168,
          217.52128398466112,
          217.54657811540366,
          217.58854072898626,
          217.60715565848352,
          217.59757540172336,
          217.61944821476936,
          217.59156435155867,
          217.52181848549844,
          217.5939028249383,
          217.6535080153942,
          217.69338856458663,
          217.74743477797506,
          217.67643186897038,
          217.73043240499496,
          217.7555626397729,
          217.74823783189058,
          217.7928831667304,
          217.73467953139541,
          217.75363535785675,
          217.7765856009722,
          217.78388363420962,
          217.7866221494675,
          217.81189471054077,
          217.83141439032553,
          217.8551426897049,
          217.81275488233564,
          217.849167386055,
          217.84524651336673,
          217.887337638855,
          217.87392220395805,
          217.89590918540955,
          217.84176628088952,
          217.88963631391528,
          217.85840267121793,
          217.88729867219925,
          217.8940519499779,
          217.89767535901072,
          217.89470128625632,
          217.92244244766235,
          217.9089479357004,
          217.90433769035343,
          217.90471442008018,
          217.91511702704432,
          217.9112984898686,
          217.91990922892094,
          217.91803910923005,
          217.9217014116049,
          217.92387010717394,
          217.93102597939966,
          217.92544145572185,
          217.92348042869568,
          217.922948043108,
          217.92389608573913,
          217.92345445013046,
          217.90575312614442,
          217.92353272128105,
          217.917363542676,
          217.92115586924552,
          217.91345447516443,
          217.91193505716325,
          217.9138701131344,
          217.92329891633986,
          217.91770125472547,
          217.91374022626877,
          217.92437685763835,
          217.90320763528348,
          217.91085723757743,
          217.91112988507746,
          217.90976620793342,
          217.90118175780773,
          217.90738964807989,
          217.90231163436172,
          217.90336366486548,
          217.9094287161827,
          217.8980389033556,
          217.89306490039826,
          217.89155842924117
         ]
        }
       ],
       "layout": {
        "template": {
         "data": {
          "bar": [
           {
            "error_x": {
             "color": "#2a3f5f"
            },
            "error_y": {
             "color": "#2a3f5f"
            },
            "marker": {
             "line": {
              "color": "#E5ECF6",
              "width": 0.5
             }
            },
            "type": "bar"
           }
          ],
          "barpolar": [
           {
            "marker": {
             "line": {
              "color": "#E5ECF6",
              "width": 0.5
             }
            },
            "type": "barpolar"
           }
          ],
          "carpet": [
           {
            "aaxis": {
             "endlinecolor": "#2a3f5f",
             "gridcolor": "white",
             "linecolor": "white",
             "minorgridcolor": "white",
             "startlinecolor": "#2a3f5f"
            },
            "baxis": {
             "endlinecolor": "#2a3f5f",
             "gridcolor": "white",
             "linecolor": "white",
             "minorgridcolor": "white",
             "startlinecolor": "#2a3f5f"
            },
            "type": "carpet"
           }
          ],
          "choropleth": [
           {
            "colorbar": {
             "outlinewidth": 0,
             "ticks": ""
            },
            "type": "choropleth"
           }
          ],
          "contour": [
           {
            "colorbar": {
             "outlinewidth": 0,
             "ticks": ""
            },
            "colorscale": [
             [
              0.0,
              "#0d0887"
             ],
             [
              0.1111111111111111,
              "#46039f"
             ],
             [
              0.2222222222222222,
              "#7201a8"
             ],
             [
              0.3333333333333333,
              "#9c179e"
             ],
             [
              0.4444444444444444,
              "#bd3786"
             ],
             [
              0.5555555555555556,
              "#d8576b"
             ],
             [
              0.6666666666666666,
              "#ed7953"
             ],
             [
              0.7777777777777778,
              "#fb9f3a"
             ],
             [
              0.8888888888888888,
              "#fdca26"
             ],
             [
              1.0,
              "#f0f921"
             ]
            ],
            "type": "contour"
           }
          ],
          "contourcarpet": [
           {
            "colorbar": {
             "outlinewidth": 0,
             "ticks": ""
            },
            "type": "contourcarpet"
           }
          ],
          "heatmap": [
           {
            "colorbar": {
             "outlinewidth": 0,
             "ticks": ""
            },
            "colorscale": [
             [
              0.0,
              "#0d0887"
             ],
             [
              0.1111111111111111,
              "#46039f"
             ],
             [
              0.2222222222222222,
              "#7201a8"
             ],
             [
              0.3333333333333333,
              "#9c179e"
             ],
             [
              0.4444444444444444,
              "#bd3786"
             ],
             [
              0.5555555555555556,
              "#d8576b"
             ],
             [
              0.6666666666666666,
              "#ed7953"
             ],
             [
              0.7777777777777778,
              "#fb9f3a"
             ],
             [
              0.8888888888888888,
              "#fdca26"
             ],
             [
              1.0,
              "#f0f921"
             ]
            ],
            "type": "heatmap"
           }
          ],
          "heatmapgl": [
           {
            "colorbar": {
             "outlinewidth": 0,
             "ticks": ""
            },
            "colorscale": [
             [
              0.0,
              "#0d0887"
             ],
             [
              0.1111111111111111,
              "#46039f"
             ],
             [
              0.2222222222222222,
              "#7201a8"
             ],
             [
              0.3333333333333333,
              "#9c179e"
             ],
             [
              0.4444444444444444,
              "#bd3786"
             ],
             [
              0.5555555555555556,
              "#d8576b"
             ],
             [
              0.6666666666666666,
              "#ed7953"
             ],
             [
              0.7777777777777778,
              "#fb9f3a"
             ],
             [
              0.8888888888888888,
              "#fdca26"
             ],
             [
              1.0,
              "#f0f921"
             ]
            ],
            "type": "heatmapgl"
           }
          ],
          "histogram": [
           {
            "marker": {
             "colorbar": {
              "outlinewidth": 0,
              "ticks": ""
             }
            },
            "type": "histogram"
           }
          ],
          "histogram2d": [
           {
            "colorbar": {
             "outlinewidth": 0,
             "ticks": ""
            },
            "colorscale": [
             [
              0.0,
              "#0d0887"
             ],
             [
              0.1111111111111111,
              "#46039f"
             ],
             [
              0.2222222222222222,
              "#7201a8"
             ],
             [
              0.3333333333333333,
              "#9c179e"
             ],
             [
              0.4444444444444444,
              "#bd3786"
             ],
             [
              0.5555555555555556,
              "#d8576b"
             ],
             [
              0.6666666666666666,
              "#ed7953"
             ],
             [
              0.7777777777777778,
              "#fb9f3a"
             ],
             [
              0.8888888888888888,
              "#fdca26"
             ],
             [
              1.0,
              "#f0f921"
             ]
            ],
            "type": "histogram2d"
           }
          ],
          "histogram2dcontour": [
           {
            "colorbar": {
             "outlinewidth": 0,
             "ticks": ""
            },
            "colorscale": [
             [
              0.0,
              "#0d0887"
             ],
             [
              0.1111111111111111,
              "#46039f"
             ],
             [
              0.2222222222222222,
              "#7201a8"
             ],
             [
              0.3333333333333333,
              "#9c179e"
             ],
             [
              0.4444444444444444,
              "#bd3786"
             ],
             [
              0.5555555555555556,
              "#d8576b"
             ],
             [
              0.6666666666666666,
              "#ed7953"
             ],
             [
              0.7777777777777778,
              "#fb9f3a"
             ],
             [
              0.8888888888888888,
              "#fdca26"
             ],
             [
              1.0,
              "#f0f921"
             ]
            ],
            "type": "histogram2dcontour"
           }
          ],
          "mesh3d": [
           {
            "colorbar": {
             "outlinewidth": 0,
             "ticks": ""
            },
            "type": "mesh3d"
           }
          ],
          "parcoords": [
           {
            "line": {
             "colorbar": {
              "outlinewidth": 0,
              "ticks": ""
             }
            },
            "type": "parcoords"
           }
          ],
          "pie": [
           {
            "automargin": true,
            "type": "pie"
           }
          ],
          "scatter": [
           {
            "marker": {
             "colorbar": {
              "outlinewidth": 0,
              "ticks": ""
             }
            },
            "type": "scatter"
           }
          ],
          "scatter3d": [
           {
            "line": {
             "colorbar": {
              "outlinewidth": 0,
              "ticks": ""
             }
            },
            "marker": {
             "colorbar": {
              "outlinewidth": 0,
              "ticks": ""
             }
            },
            "type": "scatter3d"
           }
          ],
          "scattercarpet": [
           {
            "marker": {
             "colorbar": {
              "outlinewidth": 0,
              "ticks": ""
             }
            },
            "type": "scattercarpet"
           }
          ],
          "scattergeo": [
           {
            "marker": {
             "colorbar": {
              "outlinewidth": 0,
              "ticks": ""
             }
            },
            "type": "scattergeo"
           }
          ],
          "scattergl": [
           {
            "marker": {
             "colorbar": {
              "outlinewidth": 0,
              "ticks": ""
             }
            },
            "type": "scattergl"
           }
          ],
          "scattermapbox": [
           {
            "marker": {
             "colorbar": {
              "outlinewidth": 0,
              "ticks": ""
             }
            },
            "type": "scattermapbox"
           }
          ],
          "scatterpolar": [
           {
            "marker": {
             "colorbar": {
              "outlinewidth": 0,
              "ticks": ""
             }
            },
            "type": "scatterpolar"
           }
          ],
          "scatterpolargl": [
           {
            "marker": {
             "colorbar": {
              "outlinewidth": 0,
              "ticks": ""
             }
            },
            "type": "scatterpolargl"
           }
          ],
          "scatterternary": [
           {
            "marker": {
             "colorbar": {
              "outlinewidth": 0,
              "ticks": ""
             }
            },
            "type": "scatterternary"
           }
          ],
          "surface": [
           {
            "colorbar": {
             "outlinewidth": 0,
             "ticks": ""
            },
            "colorscale": [
             [
              0.0,
              "#0d0887"
             ],
             [
              0.1111111111111111,
              "#46039f"
             ],
             [
              0.2222222222222222,
              "#7201a8"
             ],
             [
              0.3333333333333333,
              "#9c179e"
             ],
             [
              0.4444444444444444,
              "#bd3786"
             ],
             [
              0.5555555555555556,
              "#d8576b"
             ],
             [
              0.6666666666666666,
              "#ed7953"
             ],
             [
              0.7777777777777778,
              "#fb9f3a"
             ],
             [
              0.8888888888888888,
              "#fdca26"
             ],
             [
              1.0,
              "#f0f921"
             ]
            ],
            "type": "surface"
           }
          ],
          "table": [
           {
            "cells": {
             "fill": {
              "color": "#EBF0F8"
             },
             "line": {
              "color": "white"
             }
            },
            "header": {
             "fill": {
              "color": "#C8D4E3"
             },
             "line": {
              "color": "white"
             }
            },
            "type": "table"
           }
          ]
         },
         "layout": {
          "annotationdefaults": {
           "arrowcolor": "#2a3f5f",
           "arrowhead": 0,
           "arrowwidth": 1
          },
          "autotypenumbers": "strict",
          "coloraxis": {
           "colorbar": {
            "outlinewidth": 0,
            "ticks": ""
           }
          },
          "colorscale": {
           "diverging": [
            [
             0,
             "#8e0152"
            ],
            [
             0.1,
             "#c51b7d"
            ],
            [
             0.2,
             "#de77ae"
            ],
            [
             0.3,
             "#f1b6da"
            ],
            [
             0.4,
             "#fde0ef"
            ],
            [
             0.5,
             "#f7f7f7"
            ],
            [
             0.6,
             "#e6f5d0"
            ],
            [
             0.7,
             "#b8e186"
            ],
            [
             0.8,
             "#7fbc41"
            ],
            [
             0.9,
             "#4d9221"
            ],
            [
             1,
             "#276419"
            ]
           ],
           "sequential": [
            [
             0.0,
             "#0d0887"
            ],
            [
             0.1111111111111111,
             "#46039f"
            ],
            [
             0.2222222222222222,
             "#7201a8"
            ],
            [
             0.3333333333333333,
             "#9c179e"
            ],
            [
             0.4444444444444444,
             "#bd3786"
            ],
            [
             0.5555555555555556,
             "#d8576b"
            ],
            [
             0.6666666666666666,
             "#ed7953"
            ],
            [
             0.7777777777777778,
             "#fb9f3a"
            ],
            [
             0.8888888888888888,
             "#fdca26"
            ],
            [
             1.0,
             "#f0f921"
            ]
           ],
           "sequentialminus": [
            [
             0.0,
             "#0d0887"
            ],
            [
             0.1111111111111111,
             "#46039f"
            ],
            [
             0.2222222222222222,
             "#7201a8"
            ],
            [
             0.3333333333333333,
             "#9c179e"
            ],
            [
             0.4444444444444444,
             "#bd3786"
            ],
            [
             0.5555555555555556,
             "#d8576b"
            ],
            [
             0.6666666666666666,
             "#ed7953"
            ],
            [
             0.7777777777777778,
             "#fb9f3a"
            ],
            [
             0.8888888888888888,
             "#fdca26"
            ],
            [
             1.0,
             "#f0f921"
            ]
           ]
          },
          "colorway": [
           "#636efa",
           "#EF553B",
           "#00cc96",
           "#ab63fa",
           "#FFA15A",
           "#19d3f3",
           "#FF6692",
           "#B6E880",
           "#FF97FF",
           "#FECB52"
          ],
          "font": {
           "color": "#2a3f5f"
          },
          "geo": {
           "bgcolor": "white",
           "lakecolor": "white",
           "landcolor": "#E5ECF6",
           "showlakes": true,
           "showland": true,
           "subunitcolor": "white"
          },
          "hoverlabel": {
           "align": "left"
          },
          "hovermode": "closest",
          "mapbox": {
           "style": "light"
          },
          "paper_bgcolor": "rgba(0,0,0,0)",
          "plot_bgcolor": "rgba(250,250,250,0.8)",
          "polar": {
           "angularaxis": {
            "gridcolor": "white",
            "linecolor": "white",
            "ticks": ""
           },
           "bgcolor": "#E5ECF6",
           "radialaxis": {
            "gridcolor": "white",
            "linecolor": "white",
            "ticks": ""
           }
          },
          "scene": {
           "xaxis": {
            "backgroundcolor": "#E5ECF6",
            "gridcolor": "white",
            "gridwidth": 2,
            "linecolor": "white",
            "showbackground": true,
            "ticks": "",
            "zerolinecolor": "white"
           },
           "yaxis": {
            "backgroundcolor": "#E5ECF6",
            "gridcolor": "white",
            "gridwidth": 2,
            "linecolor": "white",
            "showbackground": true,
            "ticks": "",
            "zerolinecolor": "white"
           },
           "zaxis": {
            "backgroundcolor": "#E5ECF6",
            "gridcolor": "white",
            "gridwidth": 2,
            "linecolor": "white",
            "showbackground": true,
            "ticks": "",
            "zerolinecolor": "white"
           }
          },
          "shapedefaults": {
           "line": {
            "color": "#2a3f5f"
           }
          },
          "ternary": {
           "aaxis": {
            "gridcolor": "white",
            "linecolor": "white",
            "ticks": ""
           },
           "baxis": {
            "gridcolor": "white",
            "linecolor": "white",
            "ticks": ""
           },
           "bgcolor": "#E5ECF6",
           "caxis": {
            "gridcolor": "white",
            "linecolor": "white",
            "ticks": ""
           }
          },
          "title": {
           "x": 0.05
          },
          "xaxis": {
           "automargin": true,
           "gridcolor": "white",
           "linecolor": "white",
           "ticks": "",
           "title": {
            "standoff": 15
           },
           "zerolinecolor": "white",
           "zerolinewidth": 2
          },
          "yaxis": {
           "automargin": true,
           "gridcolor": "white",
           "linecolor": "white",
           "ticks": "",
           "title": {
            "standoff": 15
           },
           "zerolinecolor": "white",
           "zerolinewidth": 2
          }
         }
        },
        "xaxis": {
         "anchor": "y",
         "domain": [
          0.0,
          1.0
         ]
        },
        "yaxis": {
         "anchor": "x",
         "domain": [
          0.0,
          1.0
         ]
        }
       }
      },
      "text/html": [
       "<div>                            <div id=\"967b534b-b995-4533-8fe4-7308cf7b69f8\" class=\"plotly-graph-div\" style=\"height:525px; width:100%;\"></div>            <script type=\"text/javascript\">                require([\"plotly\"], function(Plotly) {                    window.PLOTLYENV=window.PLOTLYENV || {};                                    if (document.getElementById(\"967b534b-b995-4533-8fe4-7308cf7b69f8\")) {                    Plotly.newPlot(                        \"967b534b-b995-4533-8fe4-7308cf7b69f8\",                        [{\"name\": \"Ground Truth values\", \"type\": \"scatter\", \"y\": [217.533, 217.52, 217.517, 217.479, 217.495, 217.512, 217.52900000000002, 217.497, 217.477, 217.518, 217.49099999999999, 217.52, 217.51, 217.513, 217.505, 217.52599999999998, 217.52900000000002, 217.53900000000002, 217.514, 217.52700000000002, 217.528, 217.537, 217.544, 217.56900000000002, 217.52900000000002, 217.52, 217.576, 217.483, 217.517, 217.543, 217.497, 217.5, 217.514, 217.528, 217.49099999999999, 217.513, 217.503, 217.44299999999998, 217.48, 217.503, 217.458, 217.465, 217.447, 217.46400000000003, 217.458, 217.437, 217.46900000000002, 217.46099999999998, 217.435, 217.43, 217.382, 217.4, 217.44099999999997, 217.445, 217.5, 217.468, 217.40099999999998, 217.35, 217.417, 217.40200000000002, 217.445, 217.40200000000002, 217.387, 217.407, 217.403, 217.38099999999997, 217.392, 217.36, 217.415, 217.37599999999998, 217.352, 217.38299999999998, 217.37599999999998, 217.357, 217.38, 217.399, 217.36900000000003, 217.382, 217.40400000000002, 217.363, 217.42, 217.396, 217.399, 217.43200000000002, 217.429, 217.408, 217.407, 217.422, 217.405, 217.40099999999998, 217.35299999999998, 217.40099999999998, 217.43, 217.424, 217.472, 217.485, 217.46599999999998, 217.43599999999998, 217.53900000000002, 217.43099999999998, 217.398, 217.28799999999998, 217.418, 217.537, 217.56400000000002, 217.56400000000002, 217.56900000000002, 217.605, 217.62900000000002, 217.611, 217.625, 217.59599999999998, 217.52200000000002, 217.59900000000002, 217.668, 217.708, 217.75799999999998, 217.695, 217.736, 217.763, 217.755, 217.793, 217.74099999999999, 217.752, 217.77900000000002, 217.785, 217.78400000000002, 217.808, 217.827, 217.854, 217.81799999999998, 217.842, 217.84400000000002, 217.889, 217.877, 217.893, 217.842, 217.88400000000001, 217.859, 217.88400000000001, 217.894, 217.89700000000002, 217.895, 217.916, 217.91, 217.90400000000002, 217.903, 217.91400000000002, 217.91299999999998, 217.919, 217.917, 217.921, 217.924, 217.93099999999998, 217.926, 217.924, 217.923, 217.924, 217.924, 217.907, 217.922, 217.918, 217.921, 217.91400000000002, 217.912, 217.91400000000002, 217.922, 217.918, 217.91400000000002, 217.923, 217.905, 217.91, 217.91099999999997, 217.91, 217.90200000000002, 217.907, 217.903, 217.903, 217.908, 217.899, 217.894, 217.892, 217.892]}, {\"name\": \"stacked_lstm predictions\", \"type\": \"scatter\", \"y\": [217.52677908563615, 217.5302641788125, 217.5269493484497, 217.52011160564422, 217.49743304264547, 217.5025708079338, 217.51028865623474, 217.52272458243374, 217.50770812475682, 217.49405883336067, 217.511530423522, 217.49981516218185, 217.51315437316896, 217.50673291921615, 217.51359638011456, 217.50984865128993, 217.5227067477703, 217.52534366166594, 217.53287988996507, 217.518900711298, 217.5256386099458, 217.53004857730863, 217.53060765570402, 217.54139370679857, 217.56175081926585, 217.54274368309976, 217.52764946937563, 217.5680632534027, 217.50529635477068, 217.51071196359396, 217.53510335689785, 217.51447524476052, 217.50744134187698, 217.5058840072155, 217.52028542089462, 217.50028184723854, 217.50423580527305, 217.50940430939195, 217.47055426275728, 217.47154824256896, 217.49638826358316, 217.4755498802662, 217.46557032465935, 217.46286408185958, 217.46734416103365, 217.45516143000125, 217.44265067124368, 217.4615597187281, 217.45603567439315, 217.45068176448345, 217.44223408699037, 217.4108163166046, 217.40347275733947, 217.43295153349635, 217.43680881738663, 217.49031588435173, 217.46376139235497, 217.4285748567581, 217.38523778915405, 217.40744917052984, 217.40534320759775, 217.43555162638424, 217.41182229208948, 217.40835358905792, 217.40033934795858, 217.39464194256067, 217.38118139684198, 217.3828260383606, 217.37391438484192, 217.40608424663543, 217.3848105010986, 217.35446148586274, 217.37444835591313, 217.36746158790586, 217.36863402712345, 217.37139664649962, 217.38986461693048, 217.3716948900223, 217.3737464057207, 217.39518836402897, 217.36981477415563, 217.41029352784156, 217.3886140475273, 217.39171760952473, 217.42282435035708, 217.42061502343415, 217.4064061012268, 217.3990564597249, 217.41370600891113, 217.40141053766013, 217.39341950601337, 217.3672248626947, 217.39277160054442, 217.42125210940839, 217.41637982559206, 217.46301709747314, 217.4763147121668, 217.46213732886312, 217.44227273464202, 217.52924931621553, 217.44766642820832, 217.4098435485363, 217.32913356399536, 217.4083324944973, 217.5254989667535, 217.55339231920243, 217.55475394082072, 217.55949436587096, 217.59489616066216, 217.61929716897012, 217.60206323844193, 217.61484334617853, 217.5948067846298, 217.54360022568704, 217.59097162503005, 217.6574002225399, 217.69728148698806, 217.74712327265738, 217.6880450606346, 217.72633133268354, 217.7530445806384, 217.74592753261328, 217.78330283862354, 217.73403061264753, 217.74493940734865, 217.77090008068086, 217.77662725657225, 217.77577008533478, 217.79958742523192, 217.8183529883623, 217.84602714228632, 217.81232644450662, 217.83383281552793, 217.83655987334254, 217.88018169361354, 217.87053273236754, 217.8852724762559, 217.8544650192261, 217.87606500506402, 217.86146722757817, 217.87612993955614, 217.88606464087962, 217.88946714949608, 217.8934934437275, 217.90827166056633, 217.90523323953153, 217.8973630857468, 217.90110374748707, 217.90677829027177, 217.91383127212524, 217.9128562102914, 217.91861061930658, 217.91781766957044, 217.921415132761, 217.92823319393395, 217.92636370325087, 217.92615622091293, 217.9248964265585, 217.92807863473894, 217.92636404943468, 217.9132603458166, 217.92225978326798, 217.92044191789628, 217.92375369000433, 217.91727314901354, 217.91727335834503, 217.91698739790917, 217.92116869354248, 217.92119527554513, 217.9172471716404, 217.92440283608437, 217.9109745490551, 217.91571491718292, 217.91274046003815, 217.9122340130806, 217.90787056303026, 217.90881835770608, 217.90840302085874, 217.90479234826563, 217.91000020265577, 217.90292231333257, 217.8987793979645, 217.89646765708923]}, {\"name\": \"transfer learning to stacked_lstm predictions\", \"type\": \"scatter\", \"y\": [217.51990755999088, 217.53390761840342, 217.52025930404665, 217.52073392677306, 217.492559045434, 217.50394496142866, 217.51023679733277, 217.52368404710296, 217.49239783984424, 217.48081101596355, 217.52041150546074, 217.49033886283635, 217.5159678220749, 217.50465858221054, 217.51406311237812, 217.50559635818004, 217.52003584241865, 217.5236062526703, 217.53476000851396, 217.51565950012207, 217.5269740687609, 217.5265867409706, 217.5341603987813, 217.53918937921526, 217.56267155599596, 217.53091892933847, 217.5287126159668, 217.56680530500412, 217.50622969055175, 217.53452871179582, 217.545230250597, 217.50005946421624, 217.51065641641617, 217.51532241415978, 217.5200909357071, 217.4872665195465, 217.51432240808012, 217.4964919770956, 217.4476658205986, 217.49174431324005, 217.49271939808128, 217.45045640301703, 217.4702625411749, 217.4478554161787, 217.46353337287906, 217.4513377854824, 217.43579469627144, 217.464203999877, 217.447792042315, 217.43304301947356, 217.4311663854122, 217.38922999310495, 217.41176590919494, 217.43270528411864, 217.42517008006573, 217.46480271220207, 217.42970994806288, 217.3916312869191, 217.3621777653694, 217.4273154141903, 217.39799592578413, 217.43479990392922, 217.3919833353758, 217.39080943882465, 217.40764792335034, 217.39880153393744, 217.38405783247944, 217.39625008392335, 217.3656745815277, 217.40561772465705, 217.3677984600067, 217.35878851890564, 217.38411430513858, 217.37548173522947, 217.36132713258266, 217.37717540502547, 217.3874803467393, 217.36525565761332, 217.38140397906304, 217.39669152545932, 217.36271497142315, 217.41152465581894, 217.38651488208768, 217.39705630147458, 217.42054339790346, 217.417880510211, 217.40555083847045, 217.40920293939115, 217.4230885863304, 217.40541466712952, 217.4030214650631, 217.3683131035566, 217.4040581138134, 217.42166682422163, 217.4188680458069, 217.45636741638185, 217.4697164860368, 217.45988194370267, 217.4370108952522, 217.51356005108357, 217.42677507340906, 217.41043961334228, 217.34780944538116, 217.42652710270883, 217.46528386145832, 217.50397193837168, 217.52128398466112, 217.54657811540366, 217.58854072898626, 217.60715565848352, 217.59757540172336, 217.61944821476936, 217.59156435155867, 217.52181848549844, 217.5939028249383, 217.6535080153942, 217.69338856458663, 217.74743477797506, 217.67643186897038, 217.73043240499496, 217.7555626397729, 217.74823783189058, 217.7928831667304, 217.73467953139541, 217.75363535785675, 217.7765856009722, 217.78388363420962, 217.7866221494675, 217.81189471054077, 217.83141439032553, 217.8551426897049, 217.81275488233564, 217.849167386055, 217.84524651336673, 217.887337638855, 217.87392220395805, 217.89590918540955, 217.84176628088952, 217.88963631391528, 217.85840267121793, 217.88729867219925, 217.8940519499779, 217.89767535901072, 217.89470128625632, 217.92244244766235, 217.9089479357004, 217.90433769035343, 217.90471442008018, 217.91511702704432, 217.9112984898686, 217.91990922892094, 217.91803910923005, 217.9217014116049, 217.92387010717394, 217.93102597939966, 217.92544145572185, 217.92348042869568, 217.922948043108, 217.92389608573913, 217.92345445013046, 217.90575312614442, 217.92353272128105, 217.917363542676, 217.92115586924552, 217.91345447516443, 217.91193505716325, 217.9138701131344, 217.92329891633986, 217.91770125472547, 217.91374022626877, 217.92437685763835, 217.90320763528348, 217.91085723757743, 217.91112988507746, 217.90976620793342, 217.90118175780773, 217.90738964807989, 217.90231163436172, 217.90336366486548, 217.9094287161827, 217.8980389033556, 217.89306490039826, 217.89155842924117]}],                        {\"template\": {\"data\": {\"bar\": [{\"error_x\": {\"color\": \"#2a3f5f\"}, \"error_y\": {\"color\": \"#2a3f5f\"}, \"marker\": {\"line\": {\"color\": \"#E5ECF6\", \"width\": 0.5}}, \"type\": \"bar\"}], \"barpolar\": [{\"marker\": {\"line\": {\"color\": \"#E5ECF6\", \"width\": 0.5}}, \"type\": \"barpolar\"}], \"carpet\": [{\"aaxis\": {\"endlinecolor\": \"#2a3f5f\", \"gridcolor\": \"white\", \"linecolor\": \"white\", \"minorgridcolor\": \"white\", \"startlinecolor\": \"#2a3f5f\"}, \"baxis\": {\"endlinecolor\": \"#2a3f5f\", \"gridcolor\": \"white\", \"linecolor\": \"white\", \"minorgridcolor\": \"white\", \"startlinecolor\": \"#2a3f5f\"}, \"type\": \"carpet\"}], \"choropleth\": [{\"colorbar\": {\"outlinewidth\": 0, \"ticks\": \"\"}, \"type\": \"choropleth\"}], \"contour\": [{\"colorbar\": {\"outlinewidth\": 0, \"ticks\": \"\"}, \"colorscale\": [[0.0, \"#0d0887\"], [0.1111111111111111, \"#46039f\"], [0.2222222222222222, \"#7201a8\"], [0.3333333333333333, \"#9c179e\"], [0.4444444444444444, \"#bd3786\"], [0.5555555555555556, \"#d8576b\"], [0.6666666666666666, \"#ed7953\"], [0.7777777777777778, \"#fb9f3a\"], [0.8888888888888888, \"#fdca26\"], [1.0, \"#f0f921\"]], \"type\": \"contour\"}], \"contourcarpet\": [{\"colorbar\": {\"outlinewidth\": 0, \"ticks\": \"\"}, \"type\": \"contourcarpet\"}], \"heatmap\": [{\"colorbar\": {\"outlinewidth\": 0, \"ticks\": \"\"}, \"colorscale\": [[0.0, \"#0d0887\"], [0.1111111111111111, \"#46039f\"], [0.2222222222222222, \"#7201a8\"], [0.3333333333333333, \"#9c179e\"], [0.4444444444444444, \"#bd3786\"], [0.5555555555555556, \"#d8576b\"], [0.6666666666666666, \"#ed7953\"], [0.7777777777777778, \"#fb9f3a\"], [0.8888888888888888, \"#fdca26\"], [1.0, \"#f0f921\"]], \"type\": \"heatmap\"}], \"heatmapgl\": [{\"colorbar\": {\"outlinewidth\": 0, \"ticks\": \"\"}, \"colorscale\": [[0.0, \"#0d0887\"], [0.1111111111111111, \"#46039f\"], [0.2222222222222222, \"#7201a8\"], [0.3333333333333333, \"#9c179e\"], [0.4444444444444444, \"#bd3786\"], [0.5555555555555556, \"#d8576b\"], [0.6666666666666666, \"#ed7953\"], [0.7777777777777778, \"#fb9f3a\"], [0.8888888888888888, \"#fdca26\"], [1.0, \"#f0f921\"]], \"type\": \"heatmapgl\"}], \"histogram\": [{\"marker\": {\"colorbar\": {\"outlinewidth\": 0, \"ticks\": \"\"}}, \"type\": \"histogram\"}], \"histogram2d\": [{\"colorbar\": {\"outlinewidth\": 0, \"ticks\": \"\"}, \"colorscale\": [[0.0, \"#0d0887\"], [0.1111111111111111, \"#46039f\"], [0.2222222222222222, \"#7201a8\"], [0.3333333333333333, \"#9c179e\"], [0.4444444444444444, \"#bd3786\"], [0.5555555555555556, \"#d8576b\"], [0.6666666666666666, \"#ed7953\"], [0.7777777777777778, \"#fb9f3a\"], [0.8888888888888888, \"#fdca26\"], [1.0, \"#f0f921\"]], \"type\": \"histogram2d\"}], \"histogram2dcontour\": [{\"colorbar\": {\"outlinewidth\": 0, \"ticks\": \"\"}, \"colorscale\": [[0.0, \"#0d0887\"], [0.1111111111111111, \"#46039f\"], [0.2222222222222222, \"#7201a8\"], [0.3333333333333333, \"#9c179e\"], [0.4444444444444444, \"#bd3786\"], [0.5555555555555556, \"#d8576b\"], [0.6666666666666666, \"#ed7953\"], [0.7777777777777778, \"#fb9f3a\"], [0.8888888888888888, \"#fdca26\"], [1.0, \"#f0f921\"]], \"type\": \"histogram2dcontour\"}], \"mesh3d\": [{\"colorbar\": {\"outlinewidth\": 0, \"ticks\": \"\"}, \"type\": \"mesh3d\"}], \"parcoords\": [{\"line\": {\"colorbar\": {\"outlinewidth\": 0, \"ticks\": \"\"}}, \"type\": \"parcoords\"}], \"pie\": [{\"automargin\": true, \"type\": \"pie\"}], \"scatter\": [{\"marker\": {\"colorbar\": {\"outlinewidth\": 0, \"ticks\": \"\"}}, \"type\": \"scatter\"}], \"scatter3d\": [{\"line\": {\"colorbar\": {\"outlinewidth\": 0, \"ticks\": \"\"}}, \"marker\": {\"colorbar\": {\"outlinewidth\": 0, \"ticks\": \"\"}}, \"type\": \"scatter3d\"}], \"scattercarpet\": [{\"marker\": {\"colorbar\": {\"outlinewidth\": 0, \"ticks\": \"\"}}, \"type\": \"scattercarpet\"}], \"scattergeo\": [{\"marker\": {\"colorbar\": {\"outlinewidth\": 0, \"ticks\": \"\"}}, \"type\": \"scattergeo\"}], \"scattergl\": [{\"marker\": {\"colorbar\": {\"outlinewidth\": 0, \"ticks\": \"\"}}, \"type\": \"scattergl\"}], \"scattermapbox\": [{\"marker\": {\"colorbar\": {\"outlinewidth\": 0, \"ticks\": \"\"}}, \"type\": \"scattermapbox\"}], \"scatterpolar\": [{\"marker\": {\"colorbar\": {\"outlinewidth\": 0, \"ticks\": \"\"}}, \"type\": \"scatterpolar\"}], \"scatterpolargl\": [{\"marker\": {\"colorbar\": {\"outlinewidth\": 0, \"ticks\": \"\"}}, \"type\": \"scatterpolargl\"}], \"scatterternary\": [{\"marker\": {\"colorbar\": {\"outlinewidth\": 0, \"ticks\": \"\"}}, \"type\": \"scatterternary\"}], \"surface\": [{\"colorbar\": {\"outlinewidth\": 0, \"ticks\": \"\"}, \"colorscale\": [[0.0, \"#0d0887\"], [0.1111111111111111, \"#46039f\"], [0.2222222222222222, \"#7201a8\"], [0.3333333333333333, \"#9c179e\"], [0.4444444444444444, \"#bd3786\"], [0.5555555555555556, \"#d8576b\"], [0.6666666666666666, \"#ed7953\"], [0.7777777777777778, \"#fb9f3a\"], [0.8888888888888888, \"#fdca26\"], [1.0, \"#f0f921\"]], \"type\": \"surface\"}], \"table\": [{\"cells\": {\"fill\": {\"color\": \"#EBF0F8\"}, \"line\": {\"color\": \"white\"}}, \"header\": {\"fill\": {\"color\": \"#C8D4E3\"}, \"line\": {\"color\": \"white\"}}, \"type\": \"table\"}]}, \"layout\": {\"annotationdefaults\": {\"arrowcolor\": \"#2a3f5f\", \"arrowhead\": 0, \"arrowwidth\": 1}, \"autotypenumbers\": \"strict\", \"coloraxis\": {\"colorbar\": {\"outlinewidth\": 0, \"ticks\": \"\"}}, \"colorscale\": {\"diverging\": [[0, \"#8e0152\"], [0.1, \"#c51b7d\"], [0.2, \"#de77ae\"], [0.3, \"#f1b6da\"], [0.4, \"#fde0ef\"], [0.5, \"#f7f7f7\"], [0.6, \"#e6f5d0\"], [0.7, \"#b8e186\"], [0.8, \"#7fbc41\"], [0.9, \"#4d9221\"], [1, \"#276419\"]], \"sequential\": [[0.0, \"#0d0887\"], [0.1111111111111111, \"#46039f\"], [0.2222222222222222, \"#7201a8\"], [0.3333333333333333, \"#9c179e\"], [0.4444444444444444, \"#bd3786\"], [0.5555555555555556, \"#d8576b\"], [0.6666666666666666, \"#ed7953\"], [0.7777777777777778, \"#fb9f3a\"], [0.8888888888888888, \"#fdca26\"], [1.0, \"#f0f921\"]], \"sequentialminus\": [[0.0, \"#0d0887\"], [0.1111111111111111, \"#46039f\"], [0.2222222222222222, \"#7201a8\"], [0.3333333333333333, \"#9c179e\"], [0.4444444444444444, \"#bd3786\"], [0.5555555555555556, \"#d8576b\"], [0.6666666666666666, \"#ed7953\"], [0.7777777777777778, \"#fb9f3a\"], [0.8888888888888888, \"#fdca26\"], [1.0, \"#f0f921\"]]}, \"colorway\": [\"#636efa\", \"#EF553B\", \"#00cc96\", \"#ab63fa\", \"#FFA15A\", \"#19d3f3\", \"#FF6692\", \"#B6E880\", \"#FF97FF\", \"#FECB52\"], \"font\": {\"color\": \"#2a3f5f\"}, \"geo\": {\"bgcolor\": \"white\", \"lakecolor\": \"white\", \"landcolor\": \"#E5ECF6\", \"showlakes\": true, \"showland\": true, \"subunitcolor\": \"white\"}, \"hoverlabel\": {\"align\": \"left\"}, \"hovermode\": \"closest\", \"mapbox\": {\"style\": \"light\"}, \"paper_bgcolor\": \"rgba(0,0,0,0)\", \"plot_bgcolor\": \"rgba(250,250,250,0.8)\", \"polar\": {\"angularaxis\": {\"gridcolor\": \"white\", \"linecolor\": \"white\", \"ticks\": \"\"}, \"bgcolor\": \"#E5ECF6\", \"radialaxis\": {\"gridcolor\": \"white\", \"linecolor\": \"white\", \"ticks\": \"\"}}, \"scene\": {\"xaxis\": {\"backgroundcolor\": \"#E5ECF6\", \"gridcolor\": \"white\", \"gridwidth\": 2, \"linecolor\": \"white\", \"showbackground\": true, \"ticks\": \"\", \"zerolinecolor\": \"white\"}, \"yaxis\": {\"backgroundcolor\": \"#E5ECF6\", \"gridcolor\": \"white\", \"gridwidth\": 2, \"linecolor\": \"white\", \"showbackground\": true, \"ticks\": \"\", \"zerolinecolor\": \"white\"}, \"zaxis\": {\"backgroundcolor\": \"#E5ECF6\", \"gridcolor\": \"white\", \"gridwidth\": 2, \"linecolor\": \"white\", \"showbackground\": true, \"ticks\": \"\", \"zerolinecolor\": \"white\"}}, \"shapedefaults\": {\"line\": {\"color\": \"#2a3f5f\"}}, \"ternary\": {\"aaxis\": {\"gridcolor\": \"white\", \"linecolor\": \"white\", \"ticks\": \"\"}, \"baxis\": {\"gridcolor\": \"white\", \"linecolor\": \"white\", \"ticks\": \"\"}, \"bgcolor\": \"#E5ECF6\", \"caxis\": {\"gridcolor\": \"white\", \"linecolor\": \"white\", \"ticks\": \"\"}}, \"title\": {\"x\": 0.05}, \"xaxis\": {\"automargin\": true, \"gridcolor\": \"white\", \"linecolor\": \"white\", \"ticks\": \"\", \"title\": {\"standoff\": 15}, \"zerolinecolor\": \"white\", \"zerolinewidth\": 2}, \"yaxis\": {\"automargin\": true, \"gridcolor\": \"white\", \"linecolor\": \"white\", \"ticks\": \"\", \"title\": {\"standoff\": 15}, \"zerolinecolor\": \"white\", \"zerolinewidth\": 2}}}, \"xaxis\": {\"anchor\": \"y\", \"domain\": [0.0, 1.0]}, \"yaxis\": {\"anchor\": \"x\", \"domain\": [0.0, 1.0]}},                        {\"responsive\": true}                    ).then(function(){\n",
       "                            \n",
       "var gd = document.getElementById('967b534b-b995-4533-8fe4-7308cf7b69f8');\n",
       "var x = new MutationObserver(function (mutations, observer) {{\n",
       "        var display = window.getComputedStyle(gd).display;\n",
       "        if (!display || display === 'none') {{\n",
       "            console.log([gd, 'removed!']);\n",
       "            Plotly.purge(gd);\n",
       "            observer.disconnect();\n",
       "        }}\n",
       "}});\n",
       "\n",
       "// Listen for the removal of the full notebook cells\n",
       "var notebookContainer = gd.closest('#notebook-container');\n",
       "if (notebookContainer) {{\n",
       "    x.observe(notebookContainer, {childList: true});\n",
       "}}\n",
       "\n",
       "// Listen for the clearing of the current output cell\n",
       "var outputEl = gd.closest('.output');\n",
       "if (outputEl) {{\n",
       "    x.observe(outputEl, {childList: true});\n",
       "}}\n",
       "\n",
       "                        })                };                });            </script>        </div>"
      ]
     },
     "metadata": {},
     "output_type": "display_data"
    }
   ],
   "source": [
    "val_data_target = val_data_target.iloc[window_size:]\n",
    "\n",
    "stacked_lstm.load_state_dict(torch.load('LSTM_Staked_target_with_transfer_learning.pth'))\n",
    "pred = predict( stacked_lstm , valid_dataset )\n",
    "val_data_target['WL_pct_hat'] = pred / 10000\n",
    "val_data_target['WL_pct_hat_transfer_learning'] = val_data_target['Water Level_previous'] * (1+val_data_target['WL_pct_hat'] )\n",
    "\n",
    "stacked_lstm.load_state_dict(torch.load('LSTM_Staked_target_without_transfer_learning.pth'))\n",
    "pred = predict( stacked_lstm , valid_dataset )\n",
    "val_data_target['WL_pct_hat'] = pred / 10000\n",
    "val_data_target['WL_hat_stacked_lstm'] = val_data_target['Water Level_previous'] * (1+val_data_target['WL_pct_hat'] )\n",
    "\n",
    "fig = make_subplots()\n",
    "fig.add_trace(go.Scatter( y=val_data_target['Value'].values, name='Ground Truth values'))\n",
    "fig.add_trace(go.Scatter( y=val_data_target['WL_hat_stacked_lstm'].values ,name='stacked_lstm predictions'))\n",
    "fig.add_trace(go.Scatter( y=val_data_target['WL_pct_hat_transfer_learning'].values ,name='transfer learning to stacked_lstm predictions'))\n",
    "\n",
    "fig.show()"
   ]
  },
  {
   "cell_type": "code",
   "execution_count": 15,
   "metadata": {
    "execution": {
     "iopub.execute_input": "2020-12-30T03:24:31.632328Z",
     "iopub.status.busy": "2020-12-30T03:24:31.631521Z",
     "iopub.status.idle": "2020-12-30T03:24:31.885271Z",
     "shell.execute_reply": "2020-12-30T03:24:31.885786Z"
    },
    "id": "eg9yYvH7_dqm",
    "outputId": "cb18416a-acc3-413a-931a-9393820bde6e",
    "papermill": {
     "duration": 0.307377,
     "end_time": "2020-12-30T03:24:31.885925",
     "exception": false,
     "start_time": "2020-12-30T03:24:31.578548",
     "status": "completed"
    },
    "tags": []
   },
   "outputs": [
    {
     "data": {
      "image/png": "[encoded data removed]",
      "text/plain": [
       "<Figure size 1440x576 with 1 Axes>"
      ]
     },
     "metadata": {},
     "output_type": "display_data"
    }
   ],
   "source": [
    "plt.plot( val_data_target['Value'].values, label='Ground Truth values')\n",
    "plt.plot( val_data_target['WL_hat_stacked_lstm'].values ,label='stacked_lstm predictions')\n",
    "plt.plot( val_data_target['WL_pct_hat_transfer_learning'].values ,label='transfer learning to stacked_lstm predictions')\n",
    "\n",
    "plt.show()"
   ]
  },
  {
   "cell_type": "code",
   "execution_count": 16,
   "metadata": {
    "execution": {
     "iopub.execute_input": "2020-12-30T03:24:31.995669Z",
     "iopub.status.busy": "2020-12-30T03:24:31.993881Z",
     "iopub.status.idle": "2020-12-30T03:24:31.999654Z",
     "shell.execute_reply": "2020-12-30T03:24:31.999106Z"
    },
    "id": "AZgK1aNb_2Af",
    "outputId": "4939c0c6-9e96-458c-bfe0-39877893517b",
    "papermill": {
     "duration": 0.065836,
     "end_time": "2020-12-30T03:24:31.999757",
     "exception": false,
     "start_time": "2020-12-30T03:24:31.933921",
     "status": "completed"
    },
    "tags": []
   },
   "outputs": [
    {
     "name": "stdout",
     "output_type": "stream",
     "text": [
      "LSTM Stacked Model Results\n",
      "MSE =  0.0010562313874135309\n",
      "RMSE =  0.03249971365125439\n",
      "mean_absolute_error =  0.02304112113662214\n",
      "mean_absolute_percentage_error =  0.010590924705539658\n"
     ]
    }
   ],
   "source": [
    "print('LSTM Stacked Model Results')\n",
    "print('MSE = ' , mean_squared_error(val_data_target['Value'], val_data_target['WL_hat_stacked_lstm']))\n",
    "print('RMSE = ', math.sqrt(mean_squared_error(val_data_target['Value'], val_data_target['WL_hat_stacked_lstm'])))\n",
    "print('mean_absolute_error = ', mean_absolute_error(val_data_target['Value'], val_data_target['WL_hat_stacked_lstm']))\n",
    "print('mean_absolute_percentage_error = ', mean_absolute_percentage_error(val_data_target['Value'], val_data_target['WL_hat_stacked_lstm']))"
   ]
  },
  {
   "cell_type": "code",
   "execution_count": 17,
   "metadata": {
    "execution": {
     "iopub.execute_input": "2020-12-30T03:24:32.110721Z",
     "iopub.status.busy": "2020-12-30T03:24:32.109904Z",
     "iopub.status.idle": "2020-12-30T03:24:32.113420Z",
     "shell.execute_reply": "2020-12-30T03:24:32.114340Z"
    },
    "papermill": {
     "duration": 0.065192,
     "end_time": "2020-12-30T03:24:32.114548",
     "exception": false,
     "start_time": "2020-12-30T03:24:32.049356",
     "status": "completed"
    },
    "tags": []
   },
   "outputs": [
    {
     "name": "stdout",
     "output_type": "stream",
     "text": [
      "Tranfer leanring LSTM Stacked Model Results\n",
      "MSE =  0.001078647047009676\n",
      "RMSE =  0.03284276247531069\n",
      "mean_absolute_error =  0.023230029331858325\n",
      "mean_absolute_percentage_error =  0.01067769016800522\n"
     ]
    }
   ],
   "source": [
    "print('Tranfer leanring LSTM Stacked Model Results')\n",
    "print('MSE = ' , mean_squared_error(val_data_target['Value'], val_data_target['WL_pct_hat_transfer_learning']))\n",
    "print('RMSE = ', math.sqrt(mean_squared_error(val_data_target['Value'], val_data_target['WL_pct_hat_transfer_learning'])))\n",
    "print('mean_absolute_error = ', mean_absolute_error(val_data_target['Value'], val_data_target['WL_pct_hat_transfer_learning']))\n",
    "print('mean_absolute_percentage_error = ', mean_absolute_percentage_error(val_data_target['Value'], val_data_target['WL_pct_hat_transfer_learning']))"
   ]
  },
  {
   "cell_type": "code",
   "execution_count": null,
   "metadata": {
    "papermill": {
     "duration": 0.048734,
     "end_time": "2020-12-30T03:24:32.214511",
     "exception": false,
     "start_time": "2020-12-30T03:24:32.165777",
     "status": "completed"
    },
    "tags": []
   },
   "outputs": [],
   "source": []
  }
 ],
 "metadata": {
  "kernelspec": {
   "display_name": "Python 3",
   "language": "python",
   "name": "python3"
  },
  "language_info": {
   "codemirror_mode": {
    "name": "ipython",
    "version": 3
   },
   "file_extension": ".py",
   "mimetype": "text/x-python",
   "name": "python",
   "nbconvert_exporter": "python",
   "pygments_lexer": "ipython3",
   "version": "3.7.6"
  },
  "papermill": {
   "duration": 431.596414,
   "end_time": "2020-12-30T03:24:32.784460",
   "environment_variables": {},
   "exception": null,
   "input_path": "__notebook__.ipynb",
   "output_path": "__notebook__.ipynb",
   "parameters": {},
   "start_time": "2020-12-30T03:17:21.188046",
   "version": "2.1.0"
  }
 },
 "nbformat": 4,
 "nbformat_minor": 4
}
