{
 "cells": [
  {
   "cell_type": "code",
   "execution_count": 1,
   "metadata": {
    "colab": {
     "base_uri": "https://localhost:8080/"
    },
    "id": "Hyvz-jeAA2Yj",
    "outputId": "429529a2-cfde-453c-90ed-31fb616facda"
   },
   "outputs": [
    {
     "name": "stdout",
     "output_type": "stream",
     "text": [
      "Cloning into 'Water-Level-Forecasting'...\n",
      "remote: Enumerating objects: 210, done.\u001b[K\n",
      "remote: Counting objects: 100% (210/210), done.\u001b[K\n",
      "remote: Compressing objects: 100% (121/121), done.\u001b[K\n",
      "remote: Total 210 (delta 110), reused 182 (delta 85), pack-reused 0\u001b[K\n",
      "Receiving objects: 100% (210/210), 15.89 MiB | 15.69 MiB/s, done.\n",
      "Resolving deltas: 100% (110/110), done.\n"
     ]
    }
   ],
   "source": [
    "!git clone https://github.com/nhoues/Water-Level-Forecasting.git"
   ]
  },
  {
   "cell_type": "code",
   "execution_count": 2,
   "metadata": {
    "colab": {
     "base_uri": "https://localhost:8080/"
    },
    "id": "5NcC4VOvCIch",
    "outputId": "a963be40-484b-461c-e0f4-dfe24b343fe9"
   },
   "outputs": [
    {
     "name": "stdout",
     "output_type": "stream",
     "text": [
      "/content/Water-Level-Forecasting\n"
     ]
    }
   ],
   "source": [
    "cd Water-Level-Forecasting "
   ]
  },
  {
   "cell_type": "markdown",
   "metadata": {
    "id": "QUd8WDK2AyrG"
   },
   "source": [
    "# Set Up "
   ]
  },
  {
   "cell_type": "code",
   "execution_count": 3,
   "metadata": {
    "id": "Mu44q1gbAyrN"
   },
   "outputs": [],
   "source": [
    "import os \n",
    "\n",
    "import numpy as np \n",
    "import pandas as pd \n",
    "import matplotlib.pyplot as plt "
   ]
  },
  {
   "cell_type": "markdown",
   "metadata": {
    "id": "-UhYdiGmAyrO"
   },
   "source": [
    "# Load the Hydrometric stations Data "
   ]
  },
  {
   "cell_type": "code",
   "execution_count": 4,
   "metadata": {
    "id": "E5Kklm61AyrO"
   },
   "outputs": [],
   "source": [
    "data_dir = 'data/hydro/'\n",
    "all_data_paths = os.listdir(data_dir)"
   ]
  },
  {
   "cell_type": "code",
   "execution_count": 5,
   "metadata": {
    "id": "5-ysCSR4AyrO"
   },
   "outputs": [],
   "source": [
    "def add_nans(x): \n",
    "    if x == 'nan' : \n",
    "        return np.nan \n",
    "    else : \n",
    "        return x "
   ]
  },
  {
   "cell_type": "code",
   "execution_count": 6,
   "metadata": {
    "id": "wEdznBYbAyrP"
   },
   "outputs": [],
   "source": [
    "def corrcet_id(x) : \n",
    "    if x[0] == '\\ufeff' : \n",
    "        x = x[1:]\n",
    "    return x "
   ]
  },
  {
   "cell_type": "code",
   "execution_count": 7,
   "metadata": {
    "colab": {
     "base_uri": "https://localhost:8080/"
    },
    "id": "585rWz2iAyrP",
    "outputId": "a01bf639-20cb-4200-f37d-049c3689c620"
   },
   "outputs": [
    {
     "name": "stderr",
     "output_type": "stream",
     "text": [
      "/usr/local/lib/python3.6/dist-packages/IPython/core/interactiveshell.py:2718: DtypeWarning: Columns (1,3) have mixed types.Specify dtype option on import or set low_memory=False.\n",
      "  interactivity=interactivity, compiler=compiler, result=result)\n",
      "/usr/local/lib/python3.6/dist-packages/ipykernel_launcher.py:18: RuntimeWarning: invalid value encountered in long_scalars\n"
     ]
    }
   ],
   "source": [
    "all_data = []\n",
    "all_ids = []\n",
    "for file_path in all_data_paths : \n",
    "    if '.csv' in file_path : \n",
    "        data = pd.read_csv(data_dir + file_path )\n",
    "        data = pd.DataFrame( columns = data.index[0] , data = np.vstack(data.index[1:]))\n",
    "        data[' ID'] = data[' ID'].apply(corrcet_id)\n",
    "        for id_ in data[' ID'].unique() : \n",
    "            if id_ not in all_ids : \n",
    "                all_ids.append(id_)\n",
    "                temp = data[data[' ID'] == id_].copy()\n",
    "                datetime_series = pd.to_datetime(temp['Date'])\n",
    "                datetime_index = pd.DatetimeIndex(datetime_series.values)\n",
    "                temp.set_index(datetime_index,inplace =True)\n",
    "                temp.drop('Date',1,inplace =True)\n",
    "                temp = temp[temp.index > '2000-01-01']\n",
    "                temp['Value'] =  temp['Value'].apply(add_nans) \n",
    "                pct = temp['Value'].isnull().sum()/temp.shape[0]\n",
    "                if pct < 0.1 : \n",
    "                    all_data.append(temp)\n",
    "all_data = pd.concat(all_data)"
   ]
  },
  {
   "cell_type": "code",
   "execution_count": 8,
   "metadata": {
    "colab": {
     "base_uri": "https://localhost:8080/",
     "height": 195
    },
    "id": "SrgawoedAyrR",
    "outputId": "f37b0d2c-465b-4c4f-a621-5df2c486679a"
   },
   "outputs": [
    {
     "data": {
      "text/html": [
       "<div>\n",
       "<style scoped>\n",
       "    .dataframe tbody tr th:only-of-type {\n",
       "        vertical-align: middle;\n",
       "    }\n",
       "\n",
       "    .dataframe tbody tr th {\n",
       "        vertical-align: top;\n",
       "    }\n",
       "\n",
       "    .dataframe thead th {\n",
       "        text-align: right;\n",
       "    }\n",
       "</style>\n",
       "<table border=\"1\" class=\"dataframe\">\n",
       "  <thead>\n",
       "    <tr style=\"text-align: right;\">\n",
       "      <th></th>\n",
       "      <th>ID</th>\n",
       "      <th>PARAM</th>\n",
       "      <th>Value</th>\n",
       "    </tr>\n",
       "  </thead>\n",
       "  <tbody>\n",
       "    <tr>\n",
       "      <th>2000-01-02</th>\n",
       "      <td>07EA007</td>\n",
       "      <td>1</td>\n",
       "      <td>5.18</td>\n",
       "    </tr>\n",
       "    <tr>\n",
       "      <th>2000-01-03</th>\n",
       "      <td>07EA007</td>\n",
       "      <td>1</td>\n",
       "      <td>5.15</td>\n",
       "    </tr>\n",
       "    <tr>\n",
       "      <th>2000-01-04</th>\n",
       "      <td>07EA007</td>\n",
       "      <td>1</td>\n",
       "      <td>5.10</td>\n",
       "    </tr>\n",
       "    <tr>\n",
       "      <th>2000-01-05</th>\n",
       "      <td>07EA007</td>\n",
       "      <td>1</td>\n",
       "      <td>5.04</td>\n",
       "    </tr>\n",
       "    <tr>\n",
       "      <th>2000-01-06</th>\n",
       "      <td>07EA007</td>\n",
       "      <td>1</td>\n",
       "      <td>4.95</td>\n",
       "    </tr>\n",
       "  </tbody>\n",
       "</table>\n",
       "</div>"
      ],
      "text/plain": [
       "                 ID PARAM Value\n",
       "2000-01-02  07EA007     1  5.18\n",
       "2000-01-03  07EA007     1  5.15\n",
       "2000-01-04  07EA007     1  5.10\n",
       "2000-01-05  07EA007     1  5.04\n",
       "2000-01-06  07EA007     1  4.95"
      ]
     },
     "execution_count": 8,
     "metadata": {
      "tags": []
     },
     "output_type": "execute_result"
    }
   ],
   "source": [
    "all_data.head()"
   ]
  },
  {
   "cell_type": "markdown",
   "metadata": {
    "id": "LyPWHYm3AyrR"
   },
   "source": [
    "### Adding Latitude\tand Longitude"
   ]
  },
  {
   "cell_type": "code",
   "execution_count": 9,
   "metadata": {
    "id": "oMcIoibqAyrS"
   },
   "outputs": [],
   "source": [
    "stations_list = pd.read_csv('data/hydrometric_StationList (5).csv') "
   ]
  },
  {
   "cell_type": "code",
   "execution_count": 10,
   "metadata": {
    "id": "l3B8PO5QAyrS"
   },
   "outputs": [],
   "source": [
    "def corrcet_id(x) : \n",
    "    if x[0] == '\\ufeff' : \n",
    "        x = x[1:]\n",
    "    return x \n",
    "stations_list[' ID'] = stations_list[' ID'].apply(corrcet_id) "
   ]
  },
  {
   "cell_type": "code",
   "execution_count": 11,
   "metadata": {
    "id": "lbqxg4jCAyrS"
   },
   "outputs": [],
   "source": [
    "all_data.reset_index(inplace = True )  "
   ]
  },
  {
   "cell_type": "code",
   "execution_count": 12,
   "metadata": {
    "id": "C7u6aLh2AyrT"
   },
   "outputs": [],
   "source": [
    "all_data = pd.merge(all_data , stations_list[[' ID' ,'Latitude', 'Longitude']] , on= ' ID' , how = 'left') \n"
   ]
  },
  {
   "cell_type": "code",
   "execution_count": 13,
   "metadata": {
    "colab": {
     "base_uri": "https://localhost:8080/",
     "height": 402
    },
    "id": "qpdoQJpnAyrT",
    "outputId": "115682b3-ab05-4ec3-9382-633acd229738"
   },
   "outputs": [
    {
     "data": {
      "text/html": [
       "<div>\n",
       "<style scoped>\n",
       "    .dataframe tbody tr th:only-of-type {\n",
       "        vertical-align: middle;\n",
       "    }\n",
       "\n",
       "    .dataframe tbody tr th {\n",
       "        vertical-align: top;\n",
       "    }\n",
       "\n",
       "    .dataframe thead th {\n",
       "        text-align: right;\n",
       "    }\n",
       "</style>\n",
       "<table border=\"1\" class=\"dataframe\">\n",
       "  <thead>\n",
       "    <tr style=\"text-align: right;\">\n",
       "      <th></th>\n",
       "      <th>index</th>\n",
       "      <th>ID</th>\n",
       "      <th>PARAM</th>\n",
       "      <th>Value</th>\n",
       "      <th>Latitude</th>\n",
       "      <th>Longitude</th>\n",
       "    </tr>\n",
       "  </thead>\n",
       "  <tbody>\n",
       "    <tr>\n",
       "      <th>0</th>\n",
       "      <td>2000-01-02</td>\n",
       "      <td>07EA007</td>\n",
       "      <td>1</td>\n",
       "      <td>5.18</td>\n",
       "      <td>57.19111</td>\n",
       "      <td>-124.90111</td>\n",
       "    </tr>\n",
       "    <tr>\n",
       "      <th>1</th>\n",
       "      <td>2000-01-03</td>\n",
       "      <td>07EA007</td>\n",
       "      <td>1</td>\n",
       "      <td>5.15</td>\n",
       "      <td>57.19111</td>\n",
       "      <td>-124.90111</td>\n",
       "    </tr>\n",
       "    <tr>\n",
       "      <th>2</th>\n",
       "      <td>2000-01-04</td>\n",
       "      <td>07EA007</td>\n",
       "      <td>1</td>\n",
       "      <td>5.10</td>\n",
       "      <td>57.19111</td>\n",
       "      <td>-124.90111</td>\n",
       "    </tr>\n",
       "    <tr>\n",
       "      <th>3</th>\n",
       "      <td>2000-01-05</td>\n",
       "      <td>07EA007</td>\n",
       "      <td>1</td>\n",
       "      <td>5.04</td>\n",
       "      <td>57.19111</td>\n",
       "      <td>-124.90111</td>\n",
       "    </tr>\n",
       "    <tr>\n",
       "      <th>4</th>\n",
       "      <td>2000-01-06</td>\n",
       "      <td>07EA007</td>\n",
       "      <td>1</td>\n",
       "      <td>4.95</td>\n",
       "      <td>57.19111</td>\n",
       "      <td>-124.90111</td>\n",
       "    </tr>\n",
       "    <tr>\n",
       "      <th>...</th>\n",
       "      <td>...</td>\n",
       "      <td>...</td>\n",
       "      <td>...</td>\n",
       "      <td>...</td>\n",
       "      <td>...</td>\n",
       "      <td>...</td>\n",
       "    </tr>\n",
       "    <tr>\n",
       "      <th>579246</th>\n",
       "      <td>2019-12-27</td>\n",
       "      <td>08MG012</td>\n",
       "      <td>2</td>\n",
       "      <td>9.019</td>\n",
       "      <td>49.30926</td>\n",
       "      <td>-121.77373</td>\n",
       "    </tr>\n",
       "    <tr>\n",
       "      <th>579247</th>\n",
       "      <td>2019-12-28</td>\n",
       "      <td>08MG012</td>\n",
       "      <td>2</td>\n",
       "      <td>8.998</td>\n",
       "      <td>49.30926</td>\n",
       "      <td>-121.77373</td>\n",
       "    </tr>\n",
       "    <tr>\n",
       "      <th>579248</th>\n",
       "      <td>2019-12-29</td>\n",
       "      <td>08MG012</td>\n",
       "      <td>2</td>\n",
       "      <td>8.975</td>\n",
       "      <td>49.30926</td>\n",
       "      <td>-121.77373</td>\n",
       "    </tr>\n",
       "    <tr>\n",
       "      <th>579249</th>\n",
       "      <td>2019-12-30</td>\n",
       "      <td>08MG012</td>\n",
       "      <td>2</td>\n",
       "      <td>8.946</td>\n",
       "      <td>49.30926</td>\n",
       "      <td>-121.77373</td>\n",
       "    </tr>\n",
       "    <tr>\n",
       "      <th>579250</th>\n",
       "      <td>2019-12-31</td>\n",
       "      <td>08MG012</td>\n",
       "      <td>2</td>\n",
       "      <td>8.956</td>\n",
       "      <td>49.30926</td>\n",
       "      <td>-121.77373</td>\n",
       "    </tr>\n",
       "  </tbody>\n",
       "</table>\n",
       "<p>579251 rows × 6 columns</p>\n",
       "</div>"
      ],
      "text/plain": [
       "            index       ID PARAM  Value  Latitude  Longitude\n",
       "0      2000-01-02  07EA007     1   5.18  57.19111 -124.90111\n",
       "1      2000-01-03  07EA007     1   5.15  57.19111 -124.90111\n",
       "2      2000-01-04  07EA007     1   5.10  57.19111 -124.90111\n",
       "3      2000-01-05  07EA007     1   5.04  57.19111 -124.90111\n",
       "4      2000-01-06  07EA007     1   4.95  57.19111 -124.90111\n",
       "...           ...      ...   ...    ...       ...        ...\n",
       "579246 2019-12-27  08MG012     2  9.019  49.30926 -121.77373\n",
       "579247 2019-12-28  08MG012     2  8.998  49.30926 -121.77373\n",
       "579248 2019-12-29  08MG012     2  8.975  49.30926 -121.77373\n",
       "579249 2019-12-30  08MG012     2  8.946  49.30926 -121.77373\n",
       "579250 2019-12-31  08MG012     2  8.956  49.30926 -121.77373\n",
       "\n",
       "[579251 rows x 6 columns]"
      ]
     },
     "execution_count": 13,
     "metadata": {
      "tags": []
     },
     "output_type": "execute_result"
    }
   ],
   "source": [
    "all_data"
   ]
  },
  {
   "cell_type": "code",
   "execution_count": 14,
   "metadata": {
    "colab": {
     "base_uri": "https://localhost:8080/",
     "height": 195
    },
    "id": "WFasTXOPAyrT",
    "outputId": "0e737359-e6ac-4ede-8658-d5e8aea7fc9a"
   },
   "outputs": [
    {
     "data": {
      "text/html": [
       "<div>\n",
       "<style scoped>\n",
       "    .dataframe tbody tr th:only-of-type {\n",
       "        vertical-align: middle;\n",
       "    }\n",
       "\n",
       "    .dataframe tbody tr th {\n",
       "        vertical-align: top;\n",
       "    }\n",
       "\n",
       "    .dataframe thead th {\n",
       "        text-align: right;\n",
       "    }\n",
       "</style>\n",
       "<table border=\"1\" class=\"dataframe\">\n",
       "  <thead>\n",
       "    <tr style=\"text-align: right;\">\n",
       "      <th></th>\n",
       "      <th>index</th>\n",
       "      <th>ID</th>\n",
       "      <th>PARAM</th>\n",
       "      <th>Value</th>\n",
       "      <th>Latitude</th>\n",
       "      <th>Longitude</th>\n",
       "    </tr>\n",
       "  </thead>\n",
       "  <tbody>\n",
       "    <tr>\n",
       "      <th>0</th>\n",
       "      <td>2000-01-02</td>\n",
       "      <td>07EA007</td>\n",
       "      <td>1</td>\n",
       "      <td>5.18</td>\n",
       "      <td>57.19111</td>\n",
       "      <td>-124.90111</td>\n",
       "    </tr>\n",
       "    <tr>\n",
       "      <th>1</th>\n",
       "      <td>2000-01-03</td>\n",
       "      <td>07EA007</td>\n",
       "      <td>1</td>\n",
       "      <td>5.15</td>\n",
       "      <td>57.19111</td>\n",
       "      <td>-124.90111</td>\n",
       "    </tr>\n",
       "    <tr>\n",
       "      <th>2</th>\n",
       "      <td>2000-01-04</td>\n",
       "      <td>07EA007</td>\n",
       "      <td>1</td>\n",
       "      <td>5.10</td>\n",
       "      <td>57.19111</td>\n",
       "      <td>-124.90111</td>\n",
       "    </tr>\n",
       "    <tr>\n",
       "      <th>3</th>\n",
       "      <td>2000-01-05</td>\n",
       "      <td>07EA007</td>\n",
       "      <td>1</td>\n",
       "      <td>5.04</td>\n",
       "      <td>57.19111</td>\n",
       "      <td>-124.90111</td>\n",
       "    </tr>\n",
       "    <tr>\n",
       "      <th>4</th>\n",
       "      <td>2000-01-06</td>\n",
       "      <td>07EA007</td>\n",
       "      <td>1</td>\n",
       "      <td>4.95</td>\n",
       "      <td>57.19111</td>\n",
       "      <td>-124.90111</td>\n",
       "    </tr>\n",
       "  </tbody>\n",
       "</table>\n",
       "</div>"
      ],
      "text/plain": [
       "       index       ID PARAM Value  Latitude  Longitude\n",
       "0 2000-01-02  07EA007     1  5.18  57.19111 -124.90111\n",
       "1 2000-01-03  07EA007     1  5.15  57.19111 -124.90111\n",
       "2 2000-01-04  07EA007     1  5.10  57.19111 -124.90111\n",
       "3 2000-01-05  07EA007     1  5.04  57.19111 -124.90111\n",
       "4 2000-01-06  07EA007     1  4.95  57.19111 -124.90111"
      ]
     },
     "execution_count": 14,
     "metadata": {
      "tags": []
     },
     "output_type": "execute_result"
    }
   ],
   "source": [
    "all_data.drop(all_data[all_data['Longitude'].isnull()].index , inplace = True)\n",
    "all_data.head()"
   ]
  },
  {
   "cell_type": "code",
   "execution_count": 15,
   "metadata": {
    "colab": {
     "base_uri": "https://localhost:8080/"
    },
    "id": "lzc7lShyAyrU",
    "outputId": "8b08e878-daca-4b69-a237-b074f3746881"
   },
   "outputs": [
    {
     "name": "stdout",
     "output_type": "stream",
     "text": [
      "number of staions = 62\n"
     ]
    }
   ],
   "source": [
    "print('number of staions =' , all_data[' ID'].nunique() )"
   ]
  },
  {
   "cell_type": "markdown",
   "metadata": {
    "id": "cH9kUa3JAyrU"
   },
   "source": [
    "### Filling missed Values "
   ]
  },
  {
   "cell_type": "code",
   "execution_count": 16,
   "metadata": {
    "colab": {
     "base_uri": "https://localhost:8080/"
    },
    "id": "QLk7XLtPAyrU",
    "outputId": "68d3c562-1d58-49a4-c7d2-618798e38f5c"
   },
   "outputs": [
    {
     "name": "stdout",
     "output_type": "stream",
     "text": [
      "Missing value ratio : \n"
     ]
    },
    {
     "data": {
      "text/plain": [
       "index        0.000000\n",
       " ID          0.000000\n",
       "PARAM        0.000000\n",
       "Value        0.016191\n",
       "Latitude     0.000000\n",
       "Longitude    0.000000\n",
       "dtype: float64"
      ]
     },
     "execution_count": 16,
     "metadata": {
      "tags": []
     },
     "output_type": "execute_result"
    }
   ],
   "source": [
    "print('Missing value ratio : ') \n",
    "all_data.isnull().sum() / all_data.shape[0]"
   ]
  },
  {
   "cell_type": "code",
   "execution_count": 19,
   "metadata": {
    "id": "u5f8JQ5eAyrV"
   },
   "outputs": [],
   "source": [
    "all_data.fillna(method='ffill' , inplace = True)"
   ]
  },
  {
   "cell_type": "code",
   "execution_count": 20,
   "metadata": {
    "id": "4hmJDKOjAyrV"
   },
   "outputs": [],
   "source": [
    "all_data.columns = ['Date', 'ID', 'PARAM', 'Value', 'Latitude', 'Longitude']"
   ]
  },
  {
   "cell_type": "code",
   "execution_count": 21,
   "metadata": {
    "id": "YMYFkN7zAyrV"
   },
   "outputs": [],
   "source": [
    "all_data.to_csv('preprocessed_data.csv' , index = False )"
   ]
  },
  {
   "cell_type": "code",
   "execution_count": 22,
   "metadata": {
    "colab": {
     "base_uri": "https://localhost:8080/"
    },
    "id": "MOsRcfGqGaim",
    "outputId": "71f77d02-b08b-41f1-fe95-e62622f3eaa6"
   },
   "outputs": [
    {
     "data": {
      "text/plain": [
       "array(['07EA007', '05TG005', '02YF002', '05KL005', '05AB037', '02OH001',\n",
       "       '08MH149', '02HB021', '02JD013', '05LK002', '05LL012', '02DD006',\n",
       "       '05MD009', '05PD029', '05PE014', '05LM005', '02JE011', '05RD005',\n",
       "       '05KK002', '02YL009', '05UD001', '05LJ009', '02YL007', '08NH127',\n",
       "       '06EB007', '05RD006', '05TF001', '01AO010', '05CB006', '01AR013',\n",
       "       '01AR009', '01AO003', '02YK010', '05ND012', '08LG046', '05KK005',\n",
       "       '05PF070', '08NM083', '05AA032', '02JE024', '02LA015', '02OA013',\n",
       "       '08FA007', '05QC004', '05UB005', '06EA012', '08KH011', '05NB032',\n",
       "       '05PB024', '05PB007', '05TF004', '05RE003', '05SB006', '05SD002',\n",
       "       '05SG001', '05RF001', '05SD001', '05SA003', '05LH001', '02GA030',\n",
       "       '06EB002', '08MG012'], dtype=object)"
      ]
     },
     "execution_count": 22,
     "metadata": {
      "tags": []
     },
     "output_type": "execute_result"
    }
   ],
   "source": [
    "all_data.ID.unique()"
   ]
  },
  {
   "cell_type": "markdown",
   "metadata": {
    "id": "rJswrbl6AyrV"
   },
   "source": [
    "# Add Climate Data "
   ]
  },
  {
   "cell_type": "code",
   "execution_count": 53,
   "metadata": {
    "id": "R-KdovHbAyrW"
   },
   "outputs": [],
   "source": [
    "target_station = '08MG012'\n",
    "data = all_data[all_data['ID']==target_station].copy()\n",
    "data['Date'] =pd.to_datetime(data['Date']) \n",
    "data.set_index('Date' , inplace = True) \n",
    "data.sort_index(inplace = True)"
   ]
  },
  {
   "cell_type": "code",
   "execution_count": 54,
   "metadata": {
    "colab": {
     "base_uri": "https://localhost:8080/",
     "height": 383
    },
    "id": "0ym9OD7kAyrW",
    "outputId": "7429471d-a07a-41ad-b97a-f265598d401e"
   },
   "outputs": [
    {
     "data": {
      "text/html": [
       "<div>\n",
       "<style scoped>\n",
       "    .dataframe tbody tr th:only-of-type {\n",
       "        vertical-align: middle;\n",
       "    }\n",
       "\n",
       "    .dataframe tbody tr th {\n",
       "        vertical-align: top;\n",
       "    }\n",
       "\n",
       "    .dataframe thead th {\n",
       "        text-align: right;\n",
       "    }\n",
       "</style>\n",
       "<table border=\"1\" class=\"dataframe\">\n",
       "  <thead>\n",
       "    <tr style=\"text-align: right;\">\n",
       "      <th></th>\n",
       "      <th>Longitude (x)</th>\n",
       "      <th>Latitude (y)</th>\n",
       "      <th>Station Name</th>\n",
       "      <th>Climate ID</th>\n",
       "      <th>Date/Time</th>\n",
       "      <th>Year</th>\n",
       "      <th>Month</th>\n",
       "      <th>Day</th>\n",
       "      <th>Data Quality</th>\n",
       "      <th>Max Temp (°C)</th>\n",
       "      <th>Max Temp Flag</th>\n",
       "      <th>Min Temp (°C)</th>\n",
       "      <th>Min Temp Flag</th>\n",
       "      <th>Mean Temp (°C)</th>\n",
       "      <th>Mean Temp Flag</th>\n",
       "      <th>Heat Deg Days (°C)</th>\n",
       "      <th>Heat Deg Days Flag</th>\n",
       "      <th>Cool Deg Days (°C)</th>\n",
       "      <th>Cool Deg Days Flag</th>\n",
       "      <th>Total Rain (mm)</th>\n",
       "      <th>Total Rain Flag</th>\n",
       "      <th>Total Snow (cm)</th>\n",
       "      <th>Total Snow Flag</th>\n",
       "      <th>Total Precip (mm)</th>\n",
       "      <th>Total Precip Flag</th>\n",
       "      <th>Snow on Grnd (cm)</th>\n",
       "      <th>Snow on Grnd Flag</th>\n",
       "      <th>Dir of Max Gust (10s deg)</th>\n",
       "      <th>Dir of Max Gust Flag</th>\n",
       "      <th>Spd of Max Gust (km/h)</th>\n",
       "      <th>Spd of Max Gust Flag</th>\n",
       "    </tr>\n",
       "  </thead>\n",
       "  <tbody>\n",
       "    <tr>\n",
       "      <th>0</th>\n",
       "      <td>-121.76</td>\n",
       "      <td>49.24</td>\n",
       "      <td>AGASSIZ RCS</td>\n",
       "      <td>1100119</td>\n",
       "      <td>2011-01-01</td>\n",
       "      <td>2011</td>\n",
       "      <td>1</td>\n",
       "      <td>1</td>\n",
       "      <td>NaN</td>\n",
       "      <td>0.4</td>\n",
       "      <td>NaN</td>\n",
       "      <td>-3.0</td>\n",
       "      <td>NaN</td>\n",
       "      <td>-1.3</td>\n",
       "      <td>NaN</td>\n",
       "      <td>19.3</td>\n",
       "      <td>NaN</td>\n",
       "      <td>0.0</td>\n",
       "      <td>NaN</td>\n",
       "      <td>NaN</td>\n",
       "      <td>M</td>\n",
       "      <td>NaN</td>\n",
       "      <td>M</td>\n",
       "      <td>0.0</td>\n",
       "      <td>NaN</td>\n",
       "      <td>NaN</td>\n",
       "      <td>NaN</td>\n",
       "      <td>2.0</td>\n",
       "      <td>NaN</td>\n",
       "      <td>54</td>\n",
       "      <td>NaN</td>\n",
       "    </tr>\n",
       "    <tr>\n",
       "      <th>1</th>\n",
       "      <td>-121.76</td>\n",
       "      <td>49.24</td>\n",
       "      <td>AGASSIZ RCS</td>\n",
       "      <td>1100119</td>\n",
       "      <td>2011-01-02</td>\n",
       "      <td>2011</td>\n",
       "      <td>1</td>\n",
       "      <td>2</td>\n",
       "      <td>NaN</td>\n",
       "      <td>3.1</td>\n",
       "      <td>NaN</td>\n",
       "      <td>-3.0</td>\n",
       "      <td>NaN</td>\n",
       "      <td>0.1</td>\n",
       "      <td>NaN</td>\n",
       "      <td>17.9</td>\n",
       "      <td>NaN</td>\n",
       "      <td>0.0</td>\n",
       "      <td>NaN</td>\n",
       "      <td>NaN</td>\n",
       "      <td>M</td>\n",
       "      <td>NaN</td>\n",
       "      <td>M</td>\n",
       "      <td>0.4</td>\n",
       "      <td>NaN</td>\n",
       "      <td>NaN</td>\n",
       "      <td>NaN</td>\n",
       "      <td>4.0</td>\n",
       "      <td>NaN</td>\n",
       "      <td>56</td>\n",
       "      <td>NaN</td>\n",
       "    </tr>\n",
       "    <tr>\n",
       "      <th>2</th>\n",
       "      <td>-121.76</td>\n",
       "      <td>49.24</td>\n",
       "      <td>AGASSIZ RCS</td>\n",
       "      <td>1100119</td>\n",
       "      <td>2011-01-03</td>\n",
       "      <td>2011</td>\n",
       "      <td>1</td>\n",
       "      <td>3</td>\n",
       "      <td>NaN</td>\n",
       "      <td>5.4</td>\n",
       "      <td>NaN</td>\n",
       "      <td>-2.3</td>\n",
       "      <td>NaN</td>\n",
       "      <td>1.6</td>\n",
       "      <td>NaN</td>\n",
       "      <td>16.4</td>\n",
       "      <td>NaN</td>\n",
       "      <td>0.0</td>\n",
       "      <td>NaN</td>\n",
       "      <td>NaN</td>\n",
       "      <td>M</td>\n",
       "      <td>NaN</td>\n",
       "      <td>M</td>\n",
       "      <td>0.6</td>\n",
       "      <td>NaN</td>\n",
       "      <td>NaN</td>\n",
       "      <td>NaN</td>\n",
       "      <td>2.0</td>\n",
       "      <td>NaN</td>\n",
       "      <td>50</td>\n",
       "      <td>NaN</td>\n",
       "    </tr>\n",
       "    <tr>\n",
       "      <th>3</th>\n",
       "      <td>-121.76</td>\n",
       "      <td>49.24</td>\n",
       "      <td>AGASSIZ RCS</td>\n",
       "      <td>1100119</td>\n",
       "      <td>2011-01-04</td>\n",
       "      <td>2011</td>\n",
       "      <td>1</td>\n",
       "      <td>4</td>\n",
       "      <td>NaN</td>\n",
       "      <td>0.9</td>\n",
       "      <td>NaN</td>\n",
       "      <td>-4.1</td>\n",
       "      <td>NaN</td>\n",
       "      <td>-1.6</td>\n",
       "      <td>NaN</td>\n",
       "      <td>19.6</td>\n",
       "      <td>NaN</td>\n",
       "      <td>0.0</td>\n",
       "      <td>NaN</td>\n",
       "      <td>NaN</td>\n",
       "      <td>M</td>\n",
       "      <td>NaN</td>\n",
       "      <td>M</td>\n",
       "      <td>0.2</td>\n",
       "      <td>NaN</td>\n",
       "      <td>NaN</td>\n",
       "      <td>NaN</td>\n",
       "      <td>NaN</td>\n",
       "      <td>NaN</td>\n",
       "      <td>&lt;31</td>\n",
       "      <td>NaN</td>\n",
       "    </tr>\n",
       "    <tr>\n",
       "      <th>4</th>\n",
       "      <td>-121.76</td>\n",
       "      <td>49.24</td>\n",
       "      <td>AGASSIZ RCS</td>\n",
       "      <td>1100119</td>\n",
       "      <td>2011-01-05</td>\n",
       "      <td>2011</td>\n",
       "      <td>1</td>\n",
       "      <td>5</td>\n",
       "      <td>NaN</td>\n",
       "      <td>1.0</td>\n",
       "      <td>NaN</td>\n",
       "      <td>-0.4</td>\n",
       "      <td>NaN</td>\n",
       "      <td>0.3</td>\n",
       "      <td>NaN</td>\n",
       "      <td>17.7</td>\n",
       "      <td>NaN</td>\n",
       "      <td>0.0</td>\n",
       "      <td>NaN</td>\n",
       "      <td>NaN</td>\n",
       "      <td>M</td>\n",
       "      <td>NaN</td>\n",
       "      <td>M</td>\n",
       "      <td>26.2</td>\n",
       "      <td>NaN</td>\n",
       "      <td>NaN</td>\n",
       "      <td>NaN</td>\n",
       "      <td>NaN</td>\n",
       "      <td>NaN</td>\n",
       "      <td>&lt;31</td>\n",
       "      <td>NaN</td>\n",
       "    </tr>\n",
       "  </tbody>\n",
       "</table>\n",
       "</div>"
      ],
      "text/plain": [
       "   Longitude (x)  Latitude (y)  ... Spd of Max Gust (km/h)  Spd of Max Gust Flag\n",
       "0        -121.76         49.24  ...                     54                   NaN\n",
       "1        -121.76         49.24  ...                     56                   NaN\n",
       "2        -121.76         49.24  ...                     50                   NaN\n",
       "3        -121.76         49.24  ...                    <31                   NaN\n",
       "4        -121.76         49.24  ...                    <31                   NaN\n",
       "\n",
       "[5 rows x 31 columns]"
      ]
     },
     "execution_count": 54,
     "metadata": {
      "tags": []
     },
     "output_type": "execute_result"
    }
   ],
   "source": [
    "path_to_climate_data = 'data/climate'\n",
    "climate_data = []\n",
    "for path in os.listdir(path_to_climate_data) :\n",
    "  climate_data.append(pd.read_csv(path_to_climate_data + '/' + path)) \n",
    "climate_data = pd.concat(climate_data) \n",
    "climate_data.head()"
   ]
  },
  {
   "cell_type": "code",
   "execution_count": 55,
   "metadata": {
    "colab": {
     "base_uri": "https://localhost:8080/"
    },
    "id": "FoIOGCvCHHdL",
    "outputId": "27fb3fd7-5a24-4a51-bedb-d860b232a8b5"
   },
   "outputs": [
    {
     "data": {
      "text/plain": [
       "Longitude (x)                0.000000\n",
       "Latitude (y)                 0.000000\n",
       "Station Name                 0.000000\n",
       "Climate ID                   0.000000\n",
       "Date/Time                    0.000000\n",
       "Year                         0.000000\n",
       "Month                        0.000000\n",
       "Day                          0.000000\n",
       "Data Quality                 1.000000\n",
       "Max Temp (°C)                0.023986\n",
       "Max Temp Flag                0.981749\n",
       "Min Temp (°C)                0.013949\n",
       "Min Temp Flag                0.984748\n",
       "Mean Temp (°C)               0.024899\n",
       "Mean Temp Flag               0.980446\n",
       "Heat Deg Days (°C)           0.024899\n",
       "Heat Deg Days Flag           0.980446\n",
       "Cool Deg Days (°C)           0.024899\n",
       "Cool Deg Days Flag           0.980446\n",
       "Total Rain (mm)              1.000000\n",
       "Total Rain Flag              0.466953\n",
       "Total Snow (cm)              1.000000\n",
       "Total Snow Flag              0.467084\n",
       "Total Precip (mm)            0.086038\n",
       "Total Precip Flag            0.938209\n",
       "Snow on Grnd (cm)            0.970538\n",
       "Snow on Grnd Flag            0.996611\n",
       "Dir of Max Gust (10s deg)    0.741494\n",
       "Dir of Max Gust Flag         0.995177\n",
       "Spd of Max Gust (km/h)       0.419632\n",
       "Spd of Max Gust Flag         0.995698\n",
       "dtype: float64"
      ]
     },
     "execution_count": 55,
     "metadata": {
      "tags": []
     },
     "output_type": "execute_result"
    }
   ],
   "source": [
    "climate_data.isnull().mean()"
   ]
  },
  {
   "cell_type": "code",
   "execution_count": 56,
   "metadata": {
    "colab": {
     "base_uri": "https://localhost:8080/",
     "height": 225
    },
    "id": "2QIlh-43IX2X",
    "outputId": "0d60e537-d783-4e82-a0d1-72d7958afe48"
   },
   "outputs": [
    {
     "data": {
      "text/html": [
       "<div>\n",
       "<style scoped>\n",
       "    .dataframe tbody tr th:only-of-type {\n",
       "        vertical-align: middle;\n",
       "    }\n",
       "\n",
       "    .dataframe tbody tr th {\n",
       "        vertical-align: top;\n",
       "    }\n",
       "\n",
       "    .dataframe thead th {\n",
       "        text-align: right;\n",
       "    }\n",
       "</style>\n",
       "<table border=\"1\" class=\"dataframe\">\n",
       "  <thead>\n",
       "    <tr style=\"text-align: right;\">\n",
       "      <th></th>\n",
       "      <th>Max Temp</th>\n",
       "      <th>Min Temp</th>\n",
       "      <th>Mean Temp</th>\n",
       "      <th>Heat Deg Days</th>\n",
       "      <th>Cool Deg Days</th>\n",
       "      <th>Total Precip</th>\n",
       "    </tr>\n",
       "    <tr>\n",
       "      <th>Date</th>\n",
       "      <th></th>\n",
       "      <th></th>\n",
       "      <th></th>\n",
       "      <th></th>\n",
       "      <th></th>\n",
       "      <th></th>\n",
       "    </tr>\n",
       "  </thead>\n",
       "  <tbody>\n",
       "    <tr>\n",
       "      <th>2000-01-01</th>\n",
       "      <td>5.4</td>\n",
       "      <td>2.3</td>\n",
       "      <td>3.9</td>\n",
       "      <td>14.1</td>\n",
       "      <td>0.0</td>\n",
       "      <td>24.2</td>\n",
       "    </tr>\n",
       "    <tr>\n",
       "      <th>2000-01-02</th>\n",
       "      <td>5.3</td>\n",
       "      <td>-1.3</td>\n",
       "      <td>2.0</td>\n",
       "      <td>16.0</td>\n",
       "      <td>0.0</td>\n",
       "      <td>5.0</td>\n",
       "    </tr>\n",
       "    <tr>\n",
       "      <th>2000-01-03</th>\n",
       "      <td>2.2</td>\n",
       "      <td>-1.1</td>\n",
       "      <td>0.6</td>\n",
       "      <td>17.4</td>\n",
       "      <td>0.0</td>\n",
       "      <td>9.0</td>\n",
       "    </tr>\n",
       "    <tr>\n",
       "      <th>2000-01-04</th>\n",
       "      <td>9.1</td>\n",
       "      <td>0.9</td>\n",
       "      <td>5.0</td>\n",
       "      <td>13.0</td>\n",
       "      <td>0.0</td>\n",
       "      <td>10.8</td>\n",
       "    </tr>\n",
       "    <tr>\n",
       "      <th>2000-01-05</th>\n",
       "      <td>7.5</td>\n",
       "      <td>1.6</td>\n",
       "      <td>4.6</td>\n",
       "      <td>13.4</td>\n",
       "      <td>0.0</td>\n",
       "      <td>0.0</td>\n",
       "    </tr>\n",
       "  </tbody>\n",
       "</table>\n",
       "</div>"
      ],
      "text/plain": [
       "            Max Temp  Min Temp  ...  Cool Deg Days  Total Precip\n",
       "Date                            ...                             \n",
       "2000-01-01       5.4       2.3  ...            0.0          24.2\n",
       "2000-01-02       5.3      -1.3  ...            0.0           5.0\n",
       "2000-01-03       2.2      -1.1  ...            0.0           9.0\n",
       "2000-01-04       9.1       0.9  ...            0.0          10.8\n",
       "2000-01-05       7.5       1.6  ...            0.0           0.0\n",
       "\n",
       "[5 rows x 6 columns]"
      ]
     },
     "execution_count": 56,
     "metadata": {
      "tags": []
     },
     "output_type": "execute_result"
    }
   ],
   "source": [
    "climate_data = climate_data[['Date/Time','Max Temp (°C)','Min Temp (°C)','Mean Temp (°C)','Heat Deg Days (°C)','Cool Deg Days (°C)','Total Precip (mm)']]\n",
    "climate_data.columns = ['Date','Max Temp','Min Temp','Mean Temp','Heat Deg Days','Cool Deg Days','Total Precip']\n",
    "climate_data['Date'] = pd.to_datetime(climate_data['Date']) \n",
    "climate_data.set_index('Date' , inplace =True ) \n",
    "climate_data.sort_index(inplace = True)\n",
    "climate_data.fillna(method='ffill' , inplace = True)\n",
    "climate_data.head()"
   ]
  },
  {
   "cell_type": "code",
   "execution_count": 57,
   "metadata": {
    "id": "TzEcZr-_Iaem"
   },
   "outputs": [],
   "source": [
    "for feat in climate_data.columns : \n",
    "  data[feat] = climate_data[feat]"
   ]
  },
  {
   "cell_type": "code",
   "execution_count": 58,
   "metadata": {
    "id": "ViUgeZONJC-5"
   },
   "outputs": [],
   "source": [
    "data.to_csv('station_data')"
   ]
  },
  {
   "cell_type": "code",
   "execution_count": 59,
   "metadata": {
    "colab": {
     "base_uri": "https://localhost:8080/",
     "height": 326
    },
    "id": "Re8WeznPJb6p",
    "outputId": "52e9f11a-d984-449d-d38e-a972e07d1e90"
   },
   "outputs": [
    {
     "data": {
      "text/html": [
       "<div>\n",
       "<style scoped>\n",
       "    .dataframe tbody tr th:only-of-type {\n",
       "        vertical-align: middle;\n",
       "    }\n",
       "\n",
       "    .dataframe tbody tr th {\n",
       "        vertical-align: top;\n",
       "    }\n",
       "\n",
       "    .dataframe thead th {\n",
       "        text-align: right;\n",
       "    }\n",
       "</style>\n",
       "<table border=\"1\" class=\"dataframe\">\n",
       "  <thead>\n",
       "    <tr style=\"text-align: right;\">\n",
       "      <th></th>\n",
       "      <th>ID</th>\n",
       "      <th>PARAM</th>\n",
       "      <th>Value</th>\n",
       "      <th>Latitude</th>\n",
       "      <th>Longitude</th>\n",
       "      <th>Max Temp</th>\n",
       "      <th>Min Temp</th>\n",
       "      <th>Mean Temp</th>\n",
       "      <th>Heat Deg Days</th>\n",
       "      <th>Cool Deg Days</th>\n",
       "      <th>Total Precip</th>\n",
       "    </tr>\n",
       "    <tr>\n",
       "      <th>Date</th>\n",
       "      <th></th>\n",
       "      <th></th>\n",
       "      <th></th>\n",
       "      <th></th>\n",
       "      <th></th>\n",
       "      <th></th>\n",
       "      <th></th>\n",
       "      <th></th>\n",
       "      <th></th>\n",
       "      <th></th>\n",
       "      <th></th>\n",
       "    </tr>\n",
       "  </thead>\n",
       "  <tbody>\n",
       "    <tr>\n",
       "      <th>2000-01-02</th>\n",
       "      <td>08MG012</td>\n",
       "      <td>2</td>\n",
       "      <td>9.209</td>\n",
       "      <td>49.30926</td>\n",
       "      <td>-121.77373</td>\n",
       "      <td>5.3</td>\n",
       "      <td>-1.3</td>\n",
       "      <td>2.0</td>\n",
       "      <td>16.0</td>\n",
       "      <td>0.0</td>\n",
       "      <td>5.0</td>\n",
       "    </tr>\n",
       "    <tr>\n",
       "      <th>2000-01-03</th>\n",
       "      <td>08MG012</td>\n",
       "      <td>2</td>\n",
       "      <td>9.188</td>\n",
       "      <td>49.30926</td>\n",
       "      <td>-121.77373</td>\n",
       "      <td>2.2</td>\n",
       "      <td>-1.1</td>\n",
       "      <td>0.6</td>\n",
       "      <td>17.4</td>\n",
       "      <td>0.0</td>\n",
       "      <td>9.0</td>\n",
       "    </tr>\n",
       "    <tr>\n",
       "      <th>2000-01-04</th>\n",
       "      <td>08MG012</td>\n",
       "      <td>2</td>\n",
       "      <td>9.175</td>\n",
       "      <td>49.30926</td>\n",
       "      <td>-121.77373</td>\n",
       "      <td>9.1</td>\n",
       "      <td>0.9</td>\n",
       "      <td>5.0</td>\n",
       "      <td>13.0</td>\n",
       "      <td>0.0</td>\n",
       "      <td>10.8</td>\n",
       "    </tr>\n",
       "    <tr>\n",
       "      <th>2000-01-05</th>\n",
       "      <td>08MG012</td>\n",
       "      <td>2</td>\n",
       "      <td>9.158</td>\n",
       "      <td>49.30926</td>\n",
       "      <td>-121.77373</td>\n",
       "      <td>7.5</td>\n",
       "      <td>1.6</td>\n",
       "      <td>4.6</td>\n",
       "      <td>13.4</td>\n",
       "      <td>0.0</td>\n",
       "      <td>0.0</td>\n",
       "    </tr>\n",
       "    <tr>\n",
       "      <th>2000-01-06</th>\n",
       "      <td>08MG012</td>\n",
       "      <td>2</td>\n",
       "      <td>9.142</td>\n",
       "      <td>49.30926</td>\n",
       "      <td>-121.77373</td>\n",
       "      <td>3.8</td>\n",
       "      <td>0.9</td>\n",
       "      <td>2.4</td>\n",
       "      <td>15.6</td>\n",
       "      <td>0.0</td>\n",
       "      <td>7.8</td>\n",
       "    </tr>\n",
       "  </tbody>\n",
       "</table>\n",
       "</div>"
      ],
      "text/plain": [
       "                 ID PARAM  Value  ...  Heat Deg Days  Cool Deg Days  Total Precip\n",
       "Date                              ...                                            \n",
       "2000-01-02  08MG012     2  9.209  ...           16.0            0.0           5.0\n",
       "2000-01-03  08MG012     2  9.188  ...           17.4            0.0           9.0\n",
       "2000-01-04  08MG012     2  9.175  ...           13.0            0.0          10.8\n",
       "2000-01-05  08MG012     2  9.158  ...           13.4            0.0           0.0\n",
       "2000-01-06  08MG012     2  9.142  ...           15.6            0.0           7.8\n",
       "\n",
       "[5 rows x 11 columns]"
      ]
     },
     "execution_count": 59,
     "metadata": {
      "tags": []
     },
     "output_type": "execute_result"
    }
   ],
   "source": [
    "data.head()"
   ]
  },
  {
   "cell_type": "code",
   "execution_count": null,
   "metadata": {
    "id": "a9iJVlcmKEGF"
   },
   "outputs": [],
   "source": []
  },
  {
   "cell_type": "code",
   "execution_count": null,
   "metadata": {
    "id": "L4dCqhFTJk5T"
   },
   "outputs": [],
   "source": []
  }
 ],
 "metadata": {
  "colab": {
   "collapsed_sections": [],
   "name": "data preprocessing .ipynb",
   "provenance": [],
   "toc_visible": true
  },
  "kernelspec": {
   "display_name": "Python 3",
   "language": "python",
   "name": "python3"
  },
  "language_info": {
   "codemirror_mode": {
    "name": "ipython",
    "version": 3
   },
   "file_extension": ".py",
   "mimetype": "text/x-python",
   "name": "python",
   "nbconvert_exporter": "python",
   "pygments_lexer": "ipython3",
   "version": "3.8.5"
  }
 },
 "nbformat": 4,
 "nbformat_minor": 4
}
